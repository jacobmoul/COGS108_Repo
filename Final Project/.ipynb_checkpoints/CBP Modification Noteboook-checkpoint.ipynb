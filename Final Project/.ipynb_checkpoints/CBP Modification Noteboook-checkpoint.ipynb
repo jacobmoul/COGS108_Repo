{
 "cells": [
  {
   "cell_type": "code",
   "execution_count": 1,
   "metadata": {
    "collapsed": true
   },
   "outputs": [],
   "source": [
    "import pandas as pd\n",
    "import os\n",
    "import glob\n",
    "import re"
   ]
  },
  {
   "cell_type": "code",
   "execution_count": 2,
   "metadata": {
    "collapsed": true
   },
   "outputs": [],
   "source": [
    "files = glob.glob('Data/cb_patterns/*.txt')"
   ]
  },
  {
   "cell_type": "code",
   "execution_count": 3,
   "metadata": {},
   "outputs": [
    {
     "data": {
      "text/plain": [
       "['Data/cb_patterns/cbp00co.txt',\n",
       " 'Data/cb_patterns/cbp02co.txt',\n",
       " 'Data/cb_patterns/cbp06co.txt',\n",
       " 'Data/cb_patterns/cbp04co.txt',\n",
       " 'Data/cb_patterns/cbp03co.txt',\n",
       " 'Data/cb_patterns/cbp01co.txt',\n",
       " 'Data/cb_patterns/cbp05co.txt',\n",
       " 'Data/cb_patterns/cbp07co.txt']"
      ]
     },
     "execution_count": 3,
     "metadata": {},
     "output_type": "execute_result"
    }
   ],
   "source": [
    "files"
   ]
  },
  {
   "cell_type": "code",
   "execution_count": 5,
   "metadata": {},
   "outputs": [
    {
     "name": "stdout",
     "output_type": "stream",
     "text": [
      "Just finished file ['Data/cb_patterns/cbp00co']\n",
      "Just finished file ['Data/cb_patterns/cbp02co']\n",
      "Just finished file ['Data/cb_patterns/cbp06co']\n",
      "Just finished file ['Data/cb_patterns/cbp04co']\n",
      "Just finished file ['Data/cb_patterns/cbp03co']\n",
      "Just finished file ['Data/cb_patterns/cbp01co']\n",
      "Just finished file ['Data/cb_patterns/cbp05co']\n",
      "Just finished file ['Data/cb_patterns/cbp07co']\n"
     ]
    }
   ],
   "source": [
    "# select only counties in California, rename file\n",
    "for file in files:\n",
    "    df = pd.read_csv(file)\n",
    "    df.columns = [co.lower() for co in df.columns]\n",
    "    df = df[df.fipstate == 6]\n",
    "    name = re.findall(r'^(Data/cb_patterns/\\w*).txt', file)\n",
    "    new_name = name[0] + '_mod.csv'\n",
    "    df.to_csv(new_name, header=True)\n",
    "    print('Just finished file %s' % (name))"
   ]
  },
  {
   "cell_type": "code",
   "execution_count": null,
   "metadata": {
    "collapsed": true
   },
   "outputs": [],
   "source": []
  }
 ],
 "metadata": {
  "kernelspec": {
   "display_name": "Python 3",
   "language": "python",
   "name": "python3"
  },
  "language_info": {
   "codemirror_mode": {
    "name": "ipython",
    "version": 3
   },
   "file_extension": ".py",
   "mimetype": "text/x-python",
   "name": "python",
   "nbconvert_exporter": "python",
   "pygments_lexer": "ipython3",
   "version": "3.6.3"
  }
 },
 "nbformat": 4,
 "nbformat_minor": 2
}
