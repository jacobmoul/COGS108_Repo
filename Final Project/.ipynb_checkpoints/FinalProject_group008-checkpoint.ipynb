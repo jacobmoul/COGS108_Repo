{
 "cells": [
  {
   "cell_type": "markdown",
   "metadata": {},
   "source": [
    "# COGS108 - Final Project"
   ]
  },
  {
   "cell_type": "markdown",
   "metadata": {},
   "source": [
    "# Overview"
   ]
  },
  {
   "cell_type": "markdown",
   "metadata": {},
   "source": [
    "For our project, we wanted to look more in-depth on how droughts affect the low-income communities in California. According to the U.S. Drought Monitor, since 2000, the longest duration of drought(D1-D4) in California lasted 376 weeks beginning on December 27, 2011 and ending on March 5th, 2019. Normally, California is only 7% in moderate drought(D2). After 2011, California was 100% in drought and 93% was in severe drought(D3). In 2015, 70% of California was in exceptional drought (D4). The severe drought had a huge impact on California, causing water prices to rise dramatically between the year 2011 and 2016. Take San Francisco as an example, the price of a monthly water bill for a family of four has increased an average of 20%. This dramatic increase put additional burden on all low-income communities in California.\n",
    "\n",
    "One project that we found and will reference to would be from Circle Blue Organization. Circle Blue has been analyzing water prices in 30 major U.S. cities since 2010 and reflecting economic circumstances for water utilities. Circle Blue’s project could provide us a good reference on how to make good analysis on water prices and how they affect low-income communities in California during droughts.  \n"
   ]
  },
  {
   "cell_type": "markdown",
   "metadata": {},
   "source": [
    "# Names\n",
    "\n",
    " - Chiehkun (Timo) Chen\n",
    " - Jordan Daley\n",
    " - Jacob Moul\n",
    " - Hannah Peterson\n",
    " - Yun (Denise) Tang\n",
    " - George Thomas\n"
   ]
  },
  {
   "cell_type": "markdown",
   "metadata": {},
   "source": [
    "# Group Member IDs\n",
    "\n",
    " - A15754177\n",
    " - A92034679\n",
    " - A13548393\n",
    " - A13724073\n",
    " - A92134717\n",
    " - A12687821"
   ]
  },
  {
   "cell_type": "markdown",
   "metadata": {},
   "source": [
    "## TO-DO\n",
    "1. Fix overview -- Timo\n",
    "2. Clean up the research question, remove the part of analysis that we didn't do.  -- Timo\n",
    "3. Data set write up for the income data. -- Hannah \n",
    "4. Say \"SES\" instead of income -- Hannah\n",
    "5. Address no missingness because of census data -- Denise --done\n",
    "6. Rewrite the Ethics and Privacy part -- Denise --done\n",
    "8. Title and preface the time series plots -- Hannah \n",
    "10. Come up with ways to improve project -- Timo\n",
    "11. Synthesize bullet points -- George"
   ]
  },
  {
   "cell_type": "markdown",
   "metadata": {},
   "source": [
    "# Research Question"
   ]
  },
  {
   "cell_type": "markdown",
   "metadata": {},
   "source": [
    "#### Question: Did the 2011-19 drought in California disproportionately affect low-income communities?\n",
    "\n",
    "This project will examine the impacts of climate change on low-income communities (specifically through the climatic event of drought). We will focus on California, because it has experienced prolonged drought within the past decade (for 376 consecutive weeks—Dec 2011 - March 2019). In particular, we will investigate whether or not the California drought has had disproportionate negative effects on low-income communities compared to average and high-income communities. This question is important because as the effects of global warming become more severe, efforts must be made to protect communities that are most vulnerable to these negative effects.\n",
    "\n",
    "To answer this question we are planning on analyzing different indicators of economic well being such as unemployment rate and annual payroll and different effects of drought for various communities over time, from before during and after the most recent drought. "
   ]
  },
  {
   "cell_type": "markdown",
   "metadata": {},
   "source": [
    "## Background and Prior Work\n",
    "\n",
    "Studying the processes that govern large-scale changes in earth's climate is an endeavor best left to experts within the field, but the effects of such changes are visible around the world.  One of the most often cited consequences of climate change is an increase in the severity and frequency of natural hazards and extreme weather.  On the east coast of the United States, coastal communities are forced to contend with issues such as sea level rise and an increase in the frequency of hurricane occurrence. On the other side of the country, especially in the state of California, the danger at hand is drought.  \n",
    "\n",
    "According to the U.S. Drought Monitor, since 2000, the longest duration of drought (delineated by severity from D1-D4) in California lasted 376 weeks, beginning in December 2011 and ending in March 2019. Historically, California is only 7% in moderate drought (D2) conditions. After 2011, 100% of California was said to be in drought and 93% of the state was determined to be in severe drought (D3) conditions. In 2015, 70% of California was in exceptional drought (D4). The severe drought had a huge impact on the state, causing water prices to rise dramatically between the year 2011 and 2016. \n",
    "\n",
    "For this project, we wanted to take an in-depth look at how drought affects low-income communities in California. We are interested to see if drought and economic census data support our idea that drought conditions disproportionately affect low income communities. \n",
    "\n",
    "References:\n",
    " - 1)https://www.nbcnews.com/storyline/california-drought/california-drought-officially-over-after-more-seven-years-n983461\n",
    " - 2)https://droughtmonitor.unl.edu/\n"
   ]
  },
  {
   "cell_type": "markdown",
   "metadata": {},
   "source": [
    "# Hypothesis"
   ]
  },
  {
   "cell_type": "markdown",
   "metadata": {},
   "source": [
    "#### Hypothesis: The 2011-19 drought in California did disproportionately affect low-income communities negatively.\n",
    "\n",
    "We expect to find that these communities will have suffered more than relatively better-off communities because they have fewer safeguards to deal with environmental events, and also have less means to bear the cost of higher utility or healthcare rates concurred from drought, for example. "
   ]
  },
  {
   "cell_type": "markdown",
   "metadata": {},
   "source": [
    "# Data Sets"
   ]
  },
  {
   "cell_type": "markdown",
   "metadata": {},
   "source": [
    "**Community Economic Data**\n",
    " - Data Set Name: 'cbp[yr]co.txt' (Years 2012-2016)\n",
    "      - We modified these files to include only observations for California, and they have been renamed 'cbp[yr]co_mod.csv'\n",
    " - Source: https://www.census.gov/programs-surveys/cbp/data/datasets.html\n",
    " - Number of observations: 36616\n",
    "\n",
    "> These data sets are County Business Pattern data sets, and are provided with the description: “This series includes the number of establishments, employment during the week of March 12, first quarter payroll, and annual payroll. This data is useful for studying the economic activity of small areas; analyzing economic changes over time; and as a benchmark for other statistical series, surveys, and databases between economic censuses”. After being condensed to just the state of California, the 2016 data set (out of many others) is composed of 36616 observations of 26 variables, several of which are identifying information such as state or county code. In addition, it contains values for first quarter payroll, annual payroll, and number of employees, among other variables, for different industries in each county of California. This data comes from the US Census Bureau. All of these data sets are downloadable in csv format.\n",
    "\n",
    "**Drought Data**\n",
    " - Data Set Name: 'CADrought20\\*\\*.txt' (Years 2000-2016)\n",
    " - Source: https://droughtmonitor.unl.edu/Data/DataDownload/ComprehensiveStatistics.aspx\n",
    " - Number of Observations per table: ~3000\n",
    " \n",
    "> These data sets contain values for each county in California, showing the proportion of each county that is in Drought index D0-D4 in 5 day intervals. The data is collected by the United States Drought Monitor. The drought level is measured by D0 to D4, which describes the severity of drought in the specific county. There are about 3000 observations for 13 variables in each data set. We are combining the data sets from different years into one, so it ads up to 48256 observations. \n",
    "\n",
    "**Unemployment Data**\n",
    " - Data Set Name: 'Local_Area_Unemployment_Statistics__LAUS___Annual_Average.csv' (Years 1990-2017)\n",
    " - Source: https://www.bls.gov/lau/\n",
    " - Number of Observations: 3017\n",
    " \n",
    " > This data contains the annual average of unemployment rate in each county in California. There are 9 variables. \n",
    " \n",
    "**Income Data**\n",
    " - Data Set Name: 'Local_Area_Unemployment_Statistics__LAUS___Annual_Average.csv' (Years 1990-2017)\n",
    " - Source: https://www.bls.gov/lau/\n",
    " - Number of Observations: 3017\n",
    " \n",
    " > HANNNASOLKFHJADHFI\"JO\n",
    " \n",
    "**CA County Geographic Boundary Data**\n",
    " - Data Set Name: 'CA_Counties_TIGER2016.shp' (2016)\n",
    " - Source: https://data.ca.gov/dataset/ca-geographic-boundaries\n",
    " - Number of Observations:\n",
    " \n",
    " > This data contains geographic boundary data for the counties of California, used to make a chloropleth map. "
   ]
  },
  {
   "cell_type": "markdown",
   "metadata": {},
   "source": [
    "We merged community economic, drought data, and unemployment data sets by county and year. The CA County Geographic Boundary Data is used to generate the chlorepleph map. There is no missingness in the datasets because those are census data. This is also addressed in the descriptive data analyses below. "
   ]
  },
  {
   "cell_type": "markdown",
   "metadata": {},
   "source": [
    "# Setup"
   ]
  },
  {
   "cell_type": "code",
   "execution_count": 1,
   "metadata": {},
   "outputs": [
    {
     "name": "stderr",
     "output_type": "stream",
     "text": [
      "/anaconda3/lib/python3.7/site-packages/pysal/model/spvcm/abstracts.py:10: UserWarning: The `dill` module is required to use the sqlite backend fully.\n",
      "  from .sqlite import head_to_sql, start_sql\n"
     ]
    }
   ],
   "source": [
    "import pandas as pd\n",
    "import numpy as np\n",
    "import seaborn as sns\n",
    "import glob\n",
    "from pandas.plotting import scatter_matrix\n",
    "import matplotlib.pyplot as plt\n",
    "import patsy\n",
    "import statsmodels.api as sm\n",
    "%matplotlib inline\n",
    "import geopandas as gpd\n",
    "import descartes\n",
    "import pysal as ps\n",
    "\n",
    "from statsmodels.stats.weightstats import ttest_ind\n",
    "from scipy.stats import kruskal, f_oneway"
   ]
  },
  {
   "cell_type": "markdown",
   "metadata": {},
   "source": [
    "# Data Cleaning\n",
    "### County Business Patterns Data"
   ]
  },
  {
   "cell_type": "code",
   "execution_count": 2,
   "metadata": {},
   "outputs": [],
   "source": [
    "#Import and Wrangle County Business Patterns Data\n",
    "\n",
    "cbp00 = pd.read_csv('Data/cb_patterns/cbp00co_mod.csv')\n",
    "cbp01 = pd.read_csv('Data/cb_patterns/cbp01co_mod.csv')\n",
    "cbp02 = pd.read_csv('Data/cb_patterns/cbp02co_mod.csv')\n",
    "cbp03 = pd.read_csv('Data/cb_patterns/cbp03co_mod.csv')\n",
    "cbp04 = pd.read_csv('Data/cb_patterns/cbp04co_mod.csv')\n",
    "cbp05 = pd.read_csv('Data/cb_patterns/cbp05co_mod.csv')\n",
    "cbp06 = pd.read_csv('Data/cb_patterns/cbp06co_mod.csv')\n",
    "cbp07 = pd.read_csv('Data/cb_patterns/cbp07co_mod.csv')\n",
    "cbp08 = pd.read_csv('Data/cb_patterns/cbp08co_mod.csv')\n",
    "cbp09 = pd.read_csv('Data/cb_patterns/cbp09co_mod.csv')\n",
    "cbp10 = pd.read_csv('Data/cb_patterns/cbp10co_mod.csv')\n",
    "cbp11 = pd.read_csv('Data/cb_patterns/cbp11co_mod.csv')\n",
    "cbp12 = pd.read_csv('Data/cb_patterns/cbp12co_mod.csv')\n",
    "cbp13 = pd.read_csv('Data/cb_patterns/cbp13co_mod.csv')\n",
    "cbp14 = pd.read_csv('Data/cb_patterns/cbp14co_mod.csv')\n",
    "cbp15 = pd.read_csv('Data/cb_patterns/cbp15co_mod.csv')\n",
    "cbp16 = pd.read_csv('Data/cb_patterns/cbp16co_mod.csv')\n",
    "\n",
    "cbp00['year'] = 2000\n",
    "cbp01['year'] = 2001\n",
    "cbp02['year'] = 2002\n",
    "cbp03['year'] = 2003\n",
    "cbp04['year'] = 2004\n",
    "cbp05['year'] = 2005\n",
    "cbp06['year'] = 2006\n",
    "cbp07['year'] = 2007\n",
    "cbp08['year'] = 2008\n",
    "cbp09['year'] = 2009\n",
    "cbp10['year'] = 2010\n",
    "cbp11['year'] = 2011\n",
    "cbp12['year'] = 2012\n",
    "cbp13['year'] = 2013\n",
    "cbp14['year'] = 2014\n",
    "cbp15['year'] = 2015\n",
    "cbp16['year'] = 2016\n",
    "\n",
    "cbp_data = [cbp00, cbp01, cbp02, cbp03, cbp04, cbp05, cbp06, cbp07, cbp08, \n",
    "            cbp09, cbp10, cbp11, cbp12, cbp13, cbp14, cbp15, cbp16]"
   ]
  },
  {
   "cell_type": "code",
   "execution_count": 3,
   "metadata": {},
   "outputs": [],
   "source": [
    "# Variables to be used in CBP analysis, fips is combined state and county code; \n",
    "# for others, see county_layout_2015.txt\n",
    "cbp_vars = ['fips', 'emp', 'ap', 'est', 'year']\n",
    "\n",
    "simplified_cbp_data = []\n",
    "\n",
    "for df in cbp_data:    \n",
    "    # reformat FIPS county code for merging\n",
    "    df[['fipstate', 'fipscty']] = df[['fipstate', 'fipscty']].astype(str)\n",
    "    df['fips'] = df.fipstate.str.zfill(2) + df.fipscty.str.zfill(3)\n",
    "    \n",
    "    # select aggregate county data\n",
    "    df = df[df.naics == '------']\n",
    "    \n",
    "    # drop unneccesary columns\n",
    "    df = df[cbp_vars]\n",
    "    \n",
    "    simplified_cbp_data.append(df)"
   ]
  },
  {
   "cell_type": "code",
   "execution_count": 4,
   "metadata": {},
   "outputs": [],
   "source": [
    "cbp_final = pd.concat(simplified_cbp_data).reset_index(drop=True)\n",
    "cbp_final = cbp_final.rename(columns={'fips': 'FIPS', 'emp': 'employment', 'ap': 'annual_payroll', \n",
    "                                      'est': 'establishments'})"
   ]
  },
  {
   "cell_type": "markdown",
   "metadata": {},
   "source": [
    "### Drought Data"
   ]
  },
  {
   "cell_type": "code",
   "execution_count": 5,
   "metadata": {},
   "outputs": [],
   "source": [
    "#Import and Wrangle Drought Data\n",
    "\n",
    "# collect all drought file names\n",
    "drought_files = glob.glob('Data/drought/*')\n",
    "\n",
    "# import all drought tables\n",
    "drought_data = []\n",
    "for file in drought_files:\n",
    "    drought_data.append(pd.read_csv(file))\n",
    "\n",
    "simplified_drought_data = []\n",
    "\n",
    "for df in drought_data:\n",
    "    # add year column, reformat FIPS column for merging\n",
    "    df['Year'] = pd.to_datetime(df.ValidStart).dt.year\n",
    "    df['FIPS'] = df.FIPS.astype(str).str.zfill(5)\n",
    "    \n",
    "    # make sure only CA data included\n",
    "    df = df[df.FIPS.str[:2] == '06'].reset_index(drop=True)\n",
    "    \n",
    "    # average drought index per county per year\n",
    "    by_year = df.groupby(['FIPS', 'County'])[['None', 'D0', 'D1', 'D2', 'D3', 'D4']].mean().reset_index()\n",
    "    by_year['Year'] = df.Year[0]\n",
    "    \n",
    "    simplified_drought_data.append(by_year)"
   ]
  },
  {
   "cell_type": "code",
   "execution_count": 6,
   "metadata": {},
   "outputs": [],
   "source": [
    "drought_final = pd.concat(simplified_drought_data)\n",
    "drought_final = drought_final.rename(columns={'None': 'no_drought', 'County': 'county', 'Year': 'year'})"
   ]
  },
  {
   "cell_type": "markdown",
   "metadata": {},
   "source": [
    "### Unemployment Data"
   ]
  },
  {
   "cell_type": "code",
   "execution_count": 7,
   "metadata": {},
   "outputs": [],
   "source": [
    "# Import and Wrangle Unemployment Data\n",
    "unemploy = pd.read_csv('Data/Local_Area_Unemployment_Statistics__LAUS___Annual_Average.csv')\n",
    "\n",
    "# select county unemployment data\n",
    "unemploy = unemploy[(unemploy['Area Type'] == 'County') & (unemploy['Year'] < 2017)]\n",
    "\n",
    "# select desired variable\n",
    "unemploy = unemploy[['Area Name', 'Year', 'Unemployment Rate']].reset_index(drop=True)\n",
    "\n",
    "# rename columns for merging\n",
    "unemploy = unemploy.rename(columns={'Area Name': 'county', 'Unemployment Rate': 'unemployment', 'Year': 'year'})"
   ]
  },
  {
   "cell_type": "markdown",
   "metadata": {},
   "source": [
    "For our analysis of the effects of the drought on low income communities, we needed to define what low meant and understand the socioeconomic importance of the data. For this we needed to gather income and poverty level data to see what kinds of wealth differences there were across the counties. Upon seeing the ranges and differences in poverty percentage data, we decided to go forward with using this variable as an indicator of the counties socioeconomic status as it had the most chances for creating diverse bins to help separate the counties. Here, we are using socioeconomic status as a label for approximate county economic performance, not as a true SES score. Due to the scale of the data already used and the amount of confounds present, we assumed this would not heavily affect the overall results and if the project was further investigated this would be an area for improvement. "
   ]
  },
  {
   "cell_type": "markdown",
   "metadata": {},
   "source": [
    "### Socioeconomic Data"
   ]
  },
  {
   "cell_type": "code",
   "execution_count": 8,
   "metadata": {
    "scrolled": false
   },
   "outputs": [
    {
     "data": {
      "text/html": [
       "<div>\n",
       "<style scoped>\n",
       "    .dataframe tbody tr th:only-of-type {\n",
       "        vertical-align: middle;\n",
       "    }\n",
       "\n",
       "    .dataframe tbody tr th {\n",
       "        vertical-align: top;\n",
       "    }\n",
       "\n",
       "    .dataframe thead th {\n",
       "        text-align: right;\n",
       "    }\n",
       "</style>\n",
       "<table border=\"1\" class=\"dataframe\">\n",
       "  <thead>\n",
       "    <tr style=\"text-align: right;\">\n",
       "      <th></th>\n",
       "      <th>county</th>\n",
       "      <th>income_avg_per_capita</th>\n",
       "      <th>poverty_percent</th>\n",
       "    </tr>\n",
       "  </thead>\n",
       "  <tbody>\n",
       "    <tr>\n",
       "      <th>0</th>\n",
       "      <td>California</td>\n",
       "      <td>22711</td>\n",
       "      <td>14.2</td>\n",
       "    </tr>\n",
       "    <tr>\n",
       "      <th>1</th>\n",
       "      <td>Alameda County</td>\n",
       "      <td>26680</td>\n",
       "      <td>11.0</td>\n",
       "    </tr>\n",
       "    <tr>\n",
       "      <th>2</th>\n",
       "      <td>Alpine County</td>\n",
       "      <td>24431</td>\n",
       "      <td>19.5</td>\n",
       "    </tr>\n",
       "    <tr>\n",
       "      <th>3</th>\n",
       "      <td>Amador County</td>\n",
       "      <td>22412</td>\n",
       "      <td>9.2</td>\n",
       "    </tr>\n",
       "    <tr>\n",
       "      <th>4</th>\n",
       "      <td>Butte County</td>\n",
       "      <td>17517</td>\n",
       "      <td>19.8</td>\n",
       "    </tr>\n",
       "  </tbody>\n",
       "</table>\n",
       "</div>"
      ],
      "text/plain": [
       "           county  income_avg_per_capita  poverty_percent\n",
       "0      California                  22711             14.2\n",
       "1  Alameda County                  26680             11.0\n",
       "2   Alpine County                  24431             19.5\n",
       "3   Amador County                  22412              9.2\n",
       "4    Butte County                  17517             19.8"
      ]
     },
     "execution_count": 8,
     "metadata": {},
     "output_type": "execute_result"
    }
   ],
   "source": [
    "income = pd.read_csv('Data/income_by_county_1999.csv', header=1)\n",
    "income = income.iloc[:, 6:]\n",
    "income = income.rename(columns={income.columns[0]: 'county', \\\n",
    "                                          income.columns[1]: 'income_avg_per_capita',\n",
    "                                          income.columns[2]: 'poverty_percent'})\n",
    "income.head()"
   ]
  },
  {
   "cell_type": "code",
   "execution_count": 9,
   "metadata": {},
   "outputs": [
    {
     "data": {
      "image/png": "[encoded data removed]",
      "text/plain": [
       "<Figure size 1080x288 with 2 Axes>"
      ]
     },
     "metadata": {
      "needs_background": "light"
     },
     "output_type": "display_data"
    }
   ],
   "source": [
    "fig, ax = plt.subplots(1,2, figsize=(15,4));\n",
    "ax[0].hist(income.iloc[:,2]);\n",
    "ax[0].set_title('Distribution of counties by percentage of population in poverty');\n",
    "ax[0].set_xlabel('poverty rate (%)')\n",
    "ax[0].set_ylabel('count')\n",
    "\n",
    "ax[1].scatter(x=income.iloc[:,2], y=income.iloc[:,1]);\n",
    "ax[1].set_title('Income vs. poverty percentage per county');\n",
    "ax[1].set_xlabel('poverty rate (%)')\n",
    "ax[1].set_ylabel('income ($/year)');"
   ]
  },
  {
   "cell_type": "markdown",
   "metadata": {},
   "source": [
    "We assigned three socioeconomic groups based on the poverty percentage histogram above. The roughly trimodal distribution allows for binning of three socioeconomic groups: 'Low', 'Middle', and 'High'. Also, notice the negative relationship between income and poverty percentage displayed in the scatter plot. "
   ]
  },
  {
   "cell_type": "code",
   "execution_count": 10,
   "metadata": {},
   "outputs": [],
   "source": [
    "def assign_group(poverty):\n",
    "    if poverty > 17.5:\n",
    "        return 'Low'\n",
    "    elif poverty > 10:\n",
    "        return 'Middle'\n",
    "    else:\n",
    "        return 'High'\n",
    "    \n",
    "income['ses_group'] = pd.Categorical(income.iloc[:,2].apply(assign_group), \n",
    "                                            categories=['Low', 'Middle', 'High'], \n",
    "                                            ordered=True)"
   ]
  },
  {
   "cell_type": "code",
   "execution_count": 11,
   "metadata": {},
   "outputs": [
    {
     "data": {
      "text/plain": [
       "Middle    26\n",
       "Low       20\n",
       "High      13\n",
       "Name: ses_group, dtype: int64"
      ]
     },
     "execution_count": 11,
     "metadata": {},
     "output_type": "execute_result"
    }
   ],
   "source": [
    "# Counts of number of counties per socioeconomic group\n",
    "income.ses_group.value_counts()"
   ]
  },
  {
   "cell_type": "code",
   "execution_count": 12,
   "metadata": {
    "scrolled": true
   },
   "outputs": [
    {
     "data": {
      "text/html": [
       "<div>\n",
       "<style scoped>\n",
       "    .dataframe tbody tr th:only-of-type {\n",
       "        vertical-align: middle;\n",
       "    }\n",
       "\n",
       "    .dataframe tbody tr th {\n",
       "        vertical-align: top;\n",
       "    }\n",
       "\n",
       "    .dataframe thead th {\n",
       "        text-align: right;\n",
       "    }\n",
       "</style>\n",
       "<table border=\"1\" class=\"dataframe\">\n",
       "  <thead>\n",
       "    <tr style=\"text-align: right;\">\n",
       "      <th></th>\n",
       "      <th>FIPS</th>\n",
       "      <th>county</th>\n",
       "      <th>year</th>\n",
       "      <th>annual_payroll</th>\n",
       "      <th>establishments</th>\n",
       "      <th>employment</th>\n",
       "      <th>unemployment</th>\n",
       "      <th>no_drought</th>\n",
       "      <th>D0</th>\n",
       "      <th>D1</th>\n",
       "      <th>D2</th>\n",
       "      <th>D3</th>\n",
       "      <th>D4</th>\n",
       "      <th>income_avg_per_capita</th>\n",
       "      <th>poverty_percent</th>\n",
       "      <th>ses_group</th>\n",
       "    </tr>\n",
       "  </thead>\n",
       "  <tbody>\n",
       "    <tr>\n",
       "      <th>0</th>\n",
       "      <td>06001</td>\n",
       "      <td>Alameda County</td>\n",
       "      <td>2000</td>\n",
       "      <td>28627936</td>\n",
       "      <td>36391</td>\n",
       "      <td>655730</td>\n",
       "      <td>3.6</td>\n",
       "      <td>97.862500</td>\n",
       "      <td>2.137500</td>\n",
       "      <td>0.000000</td>\n",
       "      <td>0.0</td>\n",
       "      <td>0.0</td>\n",
       "      <td>0.0</td>\n",
       "      <td>26680</td>\n",
       "      <td>11.0</td>\n",
       "      <td>Middle</td>\n",
       "    </tr>\n",
       "    <tr>\n",
       "      <th>1</th>\n",
       "      <td>06001</td>\n",
       "      <td>Alameda County</td>\n",
       "      <td>2001</td>\n",
       "      <td>29759500</td>\n",
       "      <td>36468</td>\n",
       "      <td>670375</td>\n",
       "      <td>4.8</td>\n",
       "      <td>58.674151</td>\n",
       "      <td>41.325849</td>\n",
       "      <td>21.028868</td>\n",
       "      <td>0.0</td>\n",
       "      <td>0.0</td>\n",
       "      <td>0.0</td>\n",
       "      <td>26680</td>\n",
       "      <td>11.0</td>\n",
       "      <td>Middle</td>\n",
       "    </tr>\n",
       "    <tr>\n",
       "      <th>2</th>\n",
       "      <td>06001</td>\n",
       "      <td>Alameda County</td>\n",
       "      <td>2002</td>\n",
       "      <td>29206644</td>\n",
       "      <td>36772</td>\n",
       "      <td>653437</td>\n",
       "      <td>6.7</td>\n",
       "      <td>45.283019</td>\n",
       "      <td>54.716981</td>\n",
       "      <td>0.000000</td>\n",
       "      <td>0.0</td>\n",
       "      <td>0.0</td>\n",
       "      <td>0.0</td>\n",
       "      <td>26680</td>\n",
       "      <td>11.0</td>\n",
       "      <td>Middle</td>\n",
       "    </tr>\n",
       "    <tr>\n",
       "      <th>3</th>\n",
       "      <td>06001</td>\n",
       "      <td>Alameda County</td>\n",
       "      <td>2003</td>\n",
       "      <td>28571099</td>\n",
       "      <td>36706</td>\n",
       "      <td>625672</td>\n",
       "      <td>6.8</td>\n",
       "      <td>94.539811</td>\n",
       "      <td>5.460189</td>\n",
       "      <td>0.000000</td>\n",
       "      <td>0.0</td>\n",
       "      <td>0.0</td>\n",
       "      <td>0.0</td>\n",
       "      <td>26680</td>\n",
       "      <td>11.0</td>\n",
       "      <td>Middle</td>\n",
       "    </tr>\n",
       "    <tr>\n",
       "      <th>4</th>\n",
       "      <td>06001</td>\n",
       "      <td>Alameda County</td>\n",
       "      <td>2004</td>\n",
       "      <td>29886705</td>\n",
       "      <td>36799</td>\n",
       "      <td>626076</td>\n",
       "      <td>5.9</td>\n",
       "      <td>69.212642</td>\n",
       "      <td>30.787358</td>\n",
       "      <td>0.000000</td>\n",
       "      <td>0.0</td>\n",
       "      <td>0.0</td>\n",
       "      <td>0.0</td>\n",
       "      <td>26680</td>\n",
       "      <td>11.0</td>\n",
       "      <td>Middle</td>\n",
       "    </tr>\n",
       "  </tbody>\n",
       "</table>\n",
       "</div>"
      ],
      "text/plain": [
       "    FIPS          county  year  annual_payroll  establishments  employment  \\\n",
       "0  06001  Alameda County  2000        28627936           36391      655730   \n",
       "1  06001  Alameda County  2001        29759500           36468      670375   \n",
       "2  06001  Alameda County  2002        29206644           36772      653437   \n",
       "3  06001  Alameda County  2003        28571099           36706      625672   \n",
       "4  06001  Alameda County  2004        29886705           36799      626076   \n",
       "\n",
       "   unemployment  no_drought         D0         D1   D2   D3   D4  \\\n",
       "0           3.6   97.862500   2.137500   0.000000  0.0  0.0  0.0   \n",
       "1           4.8   58.674151  41.325849  21.028868  0.0  0.0  0.0   \n",
       "2           6.7   45.283019  54.716981   0.000000  0.0  0.0  0.0   \n",
       "3           6.8   94.539811   5.460189   0.000000  0.0  0.0  0.0   \n",
       "4           5.9   69.212642  30.787358   0.000000  0.0  0.0  0.0   \n",
       "\n",
       "   income_avg_per_capita  poverty_percent ses_group  \n",
       "0                  26680             11.0    Middle  \n",
       "1                  26680             11.0    Middle  \n",
       "2                  26680             11.0    Middle  \n",
       "3                  26680             11.0    Middle  \n",
       "4                  26680             11.0    Middle  "
      ]
     },
     "execution_count": 12,
     "metadata": {},
     "output_type": "execute_result"
    }
   ],
   "source": [
    "# FIPS (Federal Information Processing Standards) is the county code\n",
    "\n",
    "first_merge = pd.merge(left=cbp_final, right=drought_final, left_on=['FIPS', 'year'], right_on=['FIPS', 'year'], how='outer')\n",
    "project_df = pd.merge(left=first_merge, right=unemploy, left_on=['county', 'year'], right_on=['county', 'year'])\n",
    "\n",
    "#rearrange the columns\n",
    "project_df=project_df[['FIPS','county', 'year', 'annual_payroll','establishments','employment','unemployment','no_drought','D0','D1','D2','D3','D4']]\n",
    "project_df = project_df.merge(income, on='county')\n",
    "project_df.head()"
   ]
  },
  {
   "cell_type": "code",
   "execution_count": 13,
   "metadata": {},
   "outputs": [],
   "source": [
    "# Assign numeric values to each SES Group value, from low to high\n",
    "def assign_index(group):\n",
    "    if group == 'Low':\n",
    "        return 1\n",
    "    elif group == 'Middle':\n",
    "        return 2\n",
    "    else:\n",
    "        return 3\n",
    "    \n",
    "project_df['ses_index'] = project_df['ses_group'].apply(assign_index)"
   ]
  },
  {
   "cell_type": "markdown",
   "metadata": {},
   "source": [
    "### Chloropleth map of SES Groups throughout California"
   ]
  },
  {
   "cell_type": "code",
   "execution_count": 14,
   "metadata": {},
   "outputs": [
    {
     "data": {
      "image/png": "[encoded data removed]",
      "text/plain": [
       "<Figure size 1080x720 with 1 Axes>"
      ]
     },
     "metadata": {
      "needs_background": "light"
     },
     "output_type": "display_data"
    }
   ],
   "source": [
    "# Create a chloropleth map of SES Groups throughout California\n",
    "\n",
    "fp = \"Data/CA_Counties/CA_Counties_TIGER2016.shp\"\n",
    "\n",
    "map_df = gpd.read_file(fp)\n",
    "data_for_map = project_df.filter(['county','ses_index','poverty_percent'], axis=1)\n",
    "map_df.head()\n",
    "merged = map_df.set_index('NAMELSAD').join(data_for_map.set_index('county'))\n",
    "# set variable for map\n",
    "variable = 'ses_index'\n",
    "# set chloropleth range\n",
    "vmin, vmax = 1, 3\n",
    "# create figure and axes\n",
    "fig, ax = plt.subplots(1, figsize=(15, 10))\n",
    "merged.plot(column=variable, cmap='Blues', linewidth=0.8, ax=ax, edgecolor='0.8',scheme ='equal_interval', k=3,legend=True)\n",
    "ax.axis('off')\n",
    "ax.set_title('SES Index of CA Counties', fontdict={'fontsize': '25', 'fontweight' : '3'});\n",
    "leg = ax.get_legend()\n",
    "leg.get_texts()[0].set_text('Low')\n",
    "leg.get_texts()[1].set_text('Middle')\n",
    "leg.get_texts()[2].set_text('High')"
   ]
  },
  {
   "cell_type": "markdown",
   "metadata": {},
   "source": [
    "Here we assign drought \"levels\" to each county on a scale of 0-3. This feature was added to simplify the D0-D4 variables. The D0-D4 variables represent the geographical proportion of a given county that is experiencing a particular drought intensity, where \n",
    "\n",
    " - No Drought = no drought\n",
    " - D0 = abnormally dry\n",
    " - D1 = moderate drought\n",
    " - D2 = severe drought\n",
    " - D3 = extreme drought\n",
    " - D4 = exceptional drought\n",
    " \n",
    "With this in mind, and due to the small number of large values for extreme and exceptional drought, we marked any county as experiencing level 3 drought (severe or more) if more than half of its area is in D2-D4. Likewise, a county is experiencing level 2 drought (moderate drought) if more than half its area is in D1, level 1 drought (abnormally dry) if more than half its area is in D0, and not experiencing drought otherwise."
   ]
  },
  {
   "cell_type": "code",
   "execution_count": 15,
   "metadata": {},
   "outputs": [],
   "source": [
    "# assign \"drought levels\" to facilitate analysis\n",
    "\n",
    "def assign_drought(row):\n",
    "    if row['D2'] > 50:\n",
    "        return 3\n",
    "    elif row['D1'] > 50: \n",
    "        return 2\n",
    "    elif row['D0'] > 50:\n",
    "        return 1\n",
    "    else:\n",
    "        return 0\n",
    "    \n",
    "project_df['drought_level'] = project_df.apply(lambda x: assign_drought(x), axis=1)\n",
    "\n",
    "# create new feature to make payroll numbers less relative\n",
    "project_df['pay_per_employee'] = project_df['annual_payroll'] / project_df['employment']"
   ]
  },
  {
   "cell_type": "markdown",
   "metadata": {},
   "source": [
    "### Final Data Frame"
   ]
  },
  {
   "cell_type": "code",
   "execution_count": 16,
   "metadata": {
    "scrolled": true
   },
   "outputs": [
    {
     "data": {
      "text/html": [
       "<div>\n",
       "<style scoped>\n",
       "    .dataframe tbody tr th:only-of-type {\n",
       "        vertical-align: middle;\n",
       "    }\n",
       "\n",
       "    .dataframe tbody tr th {\n",
       "        vertical-align: top;\n",
       "    }\n",
       "\n",
       "    .dataframe thead th {\n",
       "        text-align: right;\n",
       "    }\n",
       "</style>\n",
       "<table border=\"1\" class=\"dataframe\">\n",
       "  <thead>\n",
       "    <tr style=\"text-align: right;\">\n",
       "      <th></th>\n",
       "      <th>FIPS</th>\n",
       "      <th>county</th>\n",
       "      <th>year</th>\n",
       "      <th>annual_payroll</th>\n",
       "      <th>establishments</th>\n",
       "      <th>employment</th>\n",
       "      <th>unemployment</th>\n",
       "      <th>no_drought</th>\n",
       "      <th>D0</th>\n",
       "      <th>D1</th>\n",
       "      <th>D2</th>\n",
       "      <th>D3</th>\n",
       "      <th>D4</th>\n",
       "      <th>income_avg_per_capita</th>\n",
       "      <th>poverty_percent</th>\n",
       "      <th>ses_group</th>\n",
       "      <th>ses_index</th>\n",
       "      <th>drought_level</th>\n",
       "      <th>pay_per_employee</th>\n",
       "    </tr>\n",
       "  </thead>\n",
       "  <tbody>\n",
       "    <tr>\n",
       "      <th>0</th>\n",
       "      <td>06001</td>\n",
       "      <td>Alameda County</td>\n",
       "      <td>2000</td>\n",
       "      <td>28627936</td>\n",
       "      <td>36391</td>\n",
       "      <td>655730</td>\n",
       "      <td>3.6</td>\n",
       "      <td>97.862500</td>\n",
       "      <td>2.137500</td>\n",
       "      <td>0.000000</td>\n",
       "      <td>0.0</td>\n",
       "      <td>0.0</td>\n",
       "      <td>0.0</td>\n",
       "      <td>26680</td>\n",
       "      <td>11.0</td>\n",
       "      <td>Middle</td>\n",
       "      <td>2</td>\n",
       "      <td>0</td>\n",
       "      <td>43.658115</td>\n",
       "    </tr>\n",
       "    <tr>\n",
       "      <th>1</th>\n",
       "      <td>06001</td>\n",
       "      <td>Alameda County</td>\n",
       "      <td>2001</td>\n",
       "      <td>29759500</td>\n",
       "      <td>36468</td>\n",
       "      <td>670375</td>\n",
       "      <td>4.8</td>\n",
       "      <td>58.674151</td>\n",
       "      <td>41.325849</td>\n",
       "      <td>21.028868</td>\n",
       "      <td>0.0</td>\n",
       "      <td>0.0</td>\n",
       "      <td>0.0</td>\n",
       "      <td>26680</td>\n",
       "      <td>11.0</td>\n",
       "      <td>Middle</td>\n",
       "      <td>2</td>\n",
       "      <td>0</td>\n",
       "      <td>44.392318</td>\n",
       "    </tr>\n",
       "    <tr>\n",
       "      <th>2</th>\n",
       "      <td>06001</td>\n",
       "      <td>Alameda County</td>\n",
       "      <td>2002</td>\n",
       "      <td>29206644</td>\n",
       "      <td>36772</td>\n",
       "      <td>653437</td>\n",
       "      <td>6.7</td>\n",
       "      <td>45.283019</td>\n",
       "      <td>54.716981</td>\n",
       "      <td>0.000000</td>\n",
       "      <td>0.0</td>\n",
       "      <td>0.0</td>\n",
       "      <td>0.0</td>\n",
       "      <td>26680</td>\n",
       "      <td>11.0</td>\n",
       "      <td>Middle</td>\n",
       "      <td>2</td>\n",
       "      <td>1</td>\n",
       "      <td>44.696955</td>\n",
       "    </tr>\n",
       "    <tr>\n",
       "      <th>3</th>\n",
       "      <td>06001</td>\n",
       "      <td>Alameda County</td>\n",
       "      <td>2003</td>\n",
       "      <td>28571099</td>\n",
       "      <td>36706</td>\n",
       "      <td>625672</td>\n",
       "      <td>6.8</td>\n",
       "      <td>94.539811</td>\n",
       "      <td>5.460189</td>\n",
       "      <td>0.000000</td>\n",
       "      <td>0.0</td>\n",
       "      <td>0.0</td>\n",
       "      <td>0.0</td>\n",
       "      <td>26680</td>\n",
       "      <td>11.0</td>\n",
       "      <td>Middle</td>\n",
       "      <td>2</td>\n",
       "      <td>0</td>\n",
       "      <td>45.664660</td>\n",
       "    </tr>\n",
       "    <tr>\n",
       "      <th>4</th>\n",
       "      <td>06001</td>\n",
       "      <td>Alameda County</td>\n",
       "      <td>2004</td>\n",
       "      <td>29886705</td>\n",
       "      <td>36799</td>\n",
       "      <td>626076</td>\n",
       "      <td>5.9</td>\n",
       "      <td>69.212642</td>\n",
       "      <td>30.787358</td>\n",
       "      <td>0.000000</td>\n",
       "      <td>0.0</td>\n",
       "      <td>0.0</td>\n",
       "      <td>0.0</td>\n",
       "      <td>26680</td>\n",
       "      <td>11.0</td>\n",
       "      <td>Middle</td>\n",
       "      <td>2</td>\n",
       "      <td>0</td>\n",
       "      <td>47.736545</td>\n",
       "    </tr>\n",
       "  </tbody>\n",
       "</table>\n",
       "</div>"
      ],
      "text/plain": [
       "    FIPS          county  year  annual_payroll  establishments  employment  \\\n",
       "0  06001  Alameda County  2000        28627936           36391      655730   \n",
       "1  06001  Alameda County  2001        29759500           36468      670375   \n",
       "2  06001  Alameda County  2002        29206644           36772      653437   \n",
       "3  06001  Alameda County  2003        28571099           36706      625672   \n",
       "4  06001  Alameda County  2004        29886705           36799      626076   \n",
       "\n",
       "   unemployment  no_drought         D0         D1   D2   D3   D4  \\\n",
       "0           3.6   97.862500   2.137500   0.000000  0.0  0.0  0.0   \n",
       "1           4.8   58.674151  41.325849  21.028868  0.0  0.0  0.0   \n",
       "2           6.7   45.283019  54.716981   0.000000  0.0  0.0  0.0   \n",
       "3           6.8   94.539811   5.460189   0.000000  0.0  0.0  0.0   \n",
       "4           5.9   69.212642  30.787358   0.000000  0.0  0.0  0.0   \n",
       "\n",
       "   income_avg_per_capita  poverty_percent ses_group ses_index  drought_level  \\\n",
       "0                  26680             11.0    Middle         2              0   \n",
       "1                  26680             11.0    Middle         2              0   \n",
       "2                  26680             11.0    Middle         2              1   \n",
       "3                  26680             11.0    Middle         2              0   \n",
       "4                  26680             11.0    Middle         2              0   \n",
       "\n",
       "   pay_per_employee  \n",
       "0         43.658115  \n",
       "1         44.392318  \n",
       "2         44.696955  \n",
       "3         45.664660  \n",
       "4         47.736545  "
      ]
     },
     "execution_count": 16,
     "metadata": {},
     "output_type": "execute_result"
    }
   ],
   "source": [
    "#rearrange the columns\n",
    "\n",
    "project_df.head()"
   ]
  },
  {
   "cell_type": "markdown",
   "metadata": {},
   "source": [
    "The D0 - D4 columns above were recorded as rolling sums, meaning that the percentage of a county that experienced some level of drought was recorded as having experienced all lower severity levels of drought as well. This was adjusted to non-cumulative levels in the table below."
   ]
  },
  {
   "cell_type": "code",
   "execution_count": 17,
   "metadata": {},
   "outputs": [
    {
     "data": {
      "text/html": [
       "<div>\n",
       "<style scoped>\n",
       "    .dataframe tbody tr th:only-of-type {\n",
       "        vertical-align: middle;\n",
       "    }\n",
       "\n",
       "    .dataframe tbody tr th {\n",
       "        vertical-align: top;\n",
       "    }\n",
       "\n",
       "    .dataframe thead th {\n",
       "        text-align: right;\n",
       "    }\n",
       "</style>\n",
       "<table border=\"1\" class=\"dataframe\">\n",
       "  <thead>\n",
       "    <tr style=\"text-align: right;\">\n",
       "      <th></th>\n",
       "      <th>FIPS</th>\n",
       "      <th>county</th>\n",
       "      <th>year</th>\n",
       "      <th>annual_payroll</th>\n",
       "      <th>establishments</th>\n",
       "      <th>employment</th>\n",
       "      <th>unemployment</th>\n",
       "      <th>income_avg_per_capita</th>\n",
       "      <th>poverty_percent</th>\n",
       "      <th>ses_group</th>\n",
       "      <th>ses_index</th>\n",
       "      <th>drought_level</th>\n",
       "      <th>pay_per_employee</th>\n",
       "      <th>no_drought</th>\n",
       "      <th>lvl0</th>\n",
       "      <th>lvl1</th>\n",
       "      <th>lvl2</th>\n",
       "      <th>lvl3</th>\n",
       "      <th>lvl4</th>\n",
       "    </tr>\n",
       "  </thead>\n",
       "  <tbody>\n",
       "    <tr>\n",
       "      <th>0</th>\n",
       "      <td>06001</td>\n",
       "      <td>Alameda County</td>\n",
       "      <td>2000</td>\n",
       "      <td>28627936</td>\n",
       "      <td>36391</td>\n",
       "      <td>655730</td>\n",
       "      <td>3.6</td>\n",
       "      <td>26680</td>\n",
       "      <td>11.0</td>\n",
       "      <td>Middle</td>\n",
       "      <td>2</td>\n",
       "      <td>0</td>\n",
       "      <td>43.658115</td>\n",
       "      <td>97.862500</td>\n",
       "      <td>2.137500</td>\n",
       "      <td>0.000000</td>\n",
       "      <td>0.0</td>\n",
       "      <td>0.0</td>\n",
       "      <td>0.0</td>\n",
       "    </tr>\n",
       "    <tr>\n",
       "      <th>1</th>\n",
       "      <td>06001</td>\n",
       "      <td>Alameda County</td>\n",
       "      <td>2001</td>\n",
       "      <td>29759500</td>\n",
       "      <td>36468</td>\n",
       "      <td>670375</td>\n",
       "      <td>4.8</td>\n",
       "      <td>26680</td>\n",
       "      <td>11.0</td>\n",
       "      <td>Middle</td>\n",
       "      <td>2</td>\n",
       "      <td>0</td>\n",
       "      <td>44.392318</td>\n",
       "      <td>58.674151</td>\n",
       "      <td>20.296981</td>\n",
       "      <td>21.028868</td>\n",
       "      <td>0.0</td>\n",
       "      <td>0.0</td>\n",
       "      <td>0.0</td>\n",
       "    </tr>\n",
       "    <tr>\n",
       "      <th>2</th>\n",
       "      <td>06001</td>\n",
       "      <td>Alameda County</td>\n",
       "      <td>2002</td>\n",
       "      <td>29206644</td>\n",
       "      <td>36772</td>\n",
       "      <td>653437</td>\n",
       "      <td>6.7</td>\n",
       "      <td>26680</td>\n",
       "      <td>11.0</td>\n",
       "      <td>Middle</td>\n",
       "      <td>2</td>\n",
       "      <td>1</td>\n",
       "      <td>44.696955</td>\n",
       "      <td>45.283019</td>\n",
       "      <td>54.716981</td>\n",
       "      <td>0.000000</td>\n",
       "      <td>0.0</td>\n",
       "      <td>0.0</td>\n",
       "      <td>0.0</td>\n",
       "    </tr>\n",
       "    <tr>\n",
       "      <th>3</th>\n",
       "      <td>06001</td>\n",
       "      <td>Alameda County</td>\n",
       "      <td>2003</td>\n",
       "      <td>28571099</td>\n",
       "      <td>36706</td>\n",
       "      <td>625672</td>\n",
       "      <td>6.8</td>\n",
       "      <td>26680</td>\n",
       "      <td>11.0</td>\n",
       "      <td>Middle</td>\n",
       "      <td>2</td>\n",
       "      <td>0</td>\n",
       "      <td>45.664660</td>\n",
       "      <td>94.539811</td>\n",
       "      <td>5.460189</td>\n",
       "      <td>0.000000</td>\n",
       "      <td>0.0</td>\n",
       "      <td>0.0</td>\n",
       "      <td>0.0</td>\n",
       "    </tr>\n",
       "    <tr>\n",
       "      <th>4</th>\n",
       "      <td>06001</td>\n",
       "      <td>Alameda County</td>\n",
       "      <td>2004</td>\n",
       "      <td>29886705</td>\n",
       "      <td>36799</td>\n",
       "      <td>626076</td>\n",
       "      <td>5.9</td>\n",
       "      <td>26680</td>\n",
       "      <td>11.0</td>\n",
       "      <td>Middle</td>\n",
       "      <td>2</td>\n",
       "      <td>0</td>\n",
       "      <td>47.736545</td>\n",
       "      <td>69.212642</td>\n",
       "      <td>30.787358</td>\n",
       "      <td>0.000000</td>\n",
       "      <td>0.0</td>\n",
       "      <td>0.0</td>\n",
       "      <td>0.0</td>\n",
       "    </tr>\n",
       "  </tbody>\n",
       "</table>\n",
       "</div>"
      ],
      "text/plain": [
       "    FIPS          county  year  annual_payroll  establishments  employment  \\\n",
       "0  06001  Alameda County  2000        28627936           36391      655730   \n",
       "1  06001  Alameda County  2001        29759500           36468      670375   \n",
       "2  06001  Alameda County  2002        29206644           36772      653437   \n",
       "3  06001  Alameda County  2003        28571099           36706      625672   \n",
       "4  06001  Alameda County  2004        29886705           36799      626076   \n",
       "\n",
       "   unemployment  income_avg_per_capita  poverty_percent ses_group ses_index  \\\n",
       "0           3.6                  26680             11.0    Middle         2   \n",
       "1           4.8                  26680             11.0    Middle         2   \n",
       "2           6.7                  26680             11.0    Middle         2   \n",
       "3           6.8                  26680             11.0    Middle         2   \n",
       "4           5.9                  26680             11.0    Middle         2   \n",
       "\n",
       "   drought_level  pay_per_employee  no_drought       lvl0       lvl1  lvl2  \\\n",
       "0              0         43.658115   97.862500   2.137500   0.000000   0.0   \n",
       "1              0         44.392318   58.674151  20.296981  21.028868   0.0   \n",
       "2              1         44.696955   45.283019  54.716981   0.000000   0.0   \n",
       "3              0         45.664660   94.539811   5.460189   0.000000   0.0   \n",
       "4              0         47.736545   69.212642  30.787358   0.000000   0.0   \n",
       "\n",
       "   lvl3  lvl4  \n",
       "0   0.0   0.0  \n",
       "1   0.0   0.0  \n",
       "2   0.0   0.0  \n",
       "3   0.0   0.0  \n",
       "4   0.0   0.0  "
      ]
     },
     "execution_count": 17,
     "metadata": {},
     "output_type": "execute_result"
    }
   ],
   "source": [
    "drought_levels = project_df.drop([\"D0\", \"D1\", \"D2\", \"D3\", \"D4\", \"no_drought\"], axis = 1)\n",
    "drought_levels['no_drought'] = project_df['no_drought']\n",
    "drought_levels['lvl0'] = project_df['D0'] - project_df['D1']\n",
    "drought_levels['lvl1'] = project_df['D1'] - project_df['D2']\n",
    "drought_levels['lvl2'] = project_df['D2'] - project_df['D3']\n",
    "drought_levels['lvl3'] = project_df['D3'] - project_df['D4']\n",
    "drought_levels['lvl4'] = project_df['D4']\n",
    "drought_levels.head()"
   ]
  },
  {
   "cell_type": "markdown",
   "metadata": {},
   "source": [
    "# Data Analysis & Results\n",
    "### Descriptive Analysis on Unemployment"
   ]
  },
  {
   "cell_type": "code",
   "execution_count": 18,
   "metadata": {},
   "outputs": [
    {
     "data": {
      "text/html": [
       "<div>\n",
       "<style scoped>\n",
       "    .dataframe tbody tr th:only-of-type {\n",
       "        vertical-align: middle;\n",
       "    }\n",
       "\n",
       "    .dataframe tbody tr th {\n",
       "        vertical-align: top;\n",
       "    }\n",
       "\n",
       "    .dataframe thead th {\n",
       "        text-align: right;\n",
       "    }\n",
       "</style>\n",
       "<table border=\"1\" class=\"dataframe\">\n",
       "  <thead>\n",
       "    <tr style=\"text-align: right;\">\n",
       "      <th></th>\n",
       "      <th>year</th>\n",
       "      <th>annual_payroll</th>\n",
       "      <th>establishments</th>\n",
       "      <th>employment</th>\n",
       "      <th>unemployment</th>\n",
       "      <th>no_drought</th>\n",
       "      <th>D0</th>\n",
       "      <th>D1</th>\n",
       "      <th>D2</th>\n",
       "      <th>D3</th>\n",
       "      <th>D4</th>\n",
       "      <th>income_avg_per_capita</th>\n",
       "      <th>poverty_percent</th>\n",
       "      <th>drought_level</th>\n",
       "      <th>pay_per_employee</th>\n",
       "    </tr>\n",
       "  </thead>\n",
       "  <tbody>\n",
       "    <tr>\n",
       "      <th>count</th>\n",
       "      <td>986.000000</td>\n",
       "      <td>9.860000e+02</td>\n",
       "      <td>986.000000</td>\n",
       "      <td>9.860000e+02</td>\n",
       "      <td>986.000000</td>\n",
       "      <td>986.000000</td>\n",
       "      <td>986.000000</td>\n",
       "      <td>986.000000</td>\n",
       "      <td>986.000000</td>\n",
       "      <td>986.000000</td>\n",
       "      <td>986.000000</td>\n",
       "      <td>986.000000</td>\n",
       "      <td>986.000000</td>\n",
       "      <td>986.000000</td>\n",
       "      <td>986.000000</td>\n",
       "    </tr>\n",
       "    <tr>\n",
       "      <th>mean</th>\n",
       "      <td>2008.000000</td>\n",
       "      <td>1.098268e+07</td>\n",
       "      <td>14822.783976</td>\n",
       "      <td>2.264094e+05</td>\n",
       "      <td>8.810649</td>\n",
       "      <td>42.027815</td>\n",
       "      <td>57.972185</td>\n",
       "      <td>42.710534</td>\n",
       "      <td>27.444563</td>\n",
       "      <td>14.475111</td>\n",
       "      <td>7.364515</td>\n",
       "      <td>20892.258621</td>\n",
       "      <td>14.500000</td>\n",
       "      <td>1.326572</td>\n",
       "      <td>37.126181</td>\n",
       "    </tr>\n",
       "    <tr>\n",
       "      <th>std</th>\n",
       "      <td>4.901466</td>\n",
       "      <td>2.725970e+07</td>\n",
       "      <td>35173.618793</td>\n",
       "      <td>5.530495e+05</td>\n",
       "      <td>3.878966</td>\n",
       "      <td>40.470664</td>\n",
       "      <td>40.470664</td>\n",
       "      <td>41.357286</td>\n",
       "      <td>36.588673</td>\n",
       "      <td>31.578546</td>\n",
       "      <td>22.143001</td>\n",
       "      <td>6131.120533</td>\n",
       "      <td>4.912018</td>\n",
       "      <td>1.245843</td>\n",
       "      <td>13.366675</td>\n",
       "    </tr>\n",
       "    <tr>\n",
       "      <th>min</th>\n",
       "      <td>2000.000000</td>\n",
       "      <td>4.053000e+03</td>\n",
       "      <td>35.000000</td>\n",
       "      <td>1.620000e+02</td>\n",
       "      <td>2.900000</td>\n",
       "      <td>0.000000</td>\n",
       "      <td>0.000000</td>\n",
       "      <td>0.000000</td>\n",
       "      <td>0.000000</td>\n",
       "      <td>0.000000</td>\n",
       "      <td>0.000000</td>\n",
       "      <td>13239.000000</td>\n",
       "      <td>5.800000</td>\n",
       "      <td>0.000000</td>\n",
       "      <td>10.734532</td>\n",
       "    </tr>\n",
       "    <tr>\n",
       "      <th>25%</th>\n",
       "      <td>2004.000000</td>\n",
       "      <td>2.605378e+05</td>\n",
       "      <td>915.750000</td>\n",
       "      <td>8.930250e+03</td>\n",
       "      <td>5.800000</td>\n",
       "      <td>0.438019</td>\n",
       "      <td>9.456299</td>\n",
       "      <td>0.000000</td>\n",
       "      <td>0.000000</td>\n",
       "      <td>0.000000</td>\n",
       "      <td>0.000000</td>\n",
       "      <td>16856.000000</td>\n",
       "      <td>11.000000</td>\n",
       "      <td>0.000000</td>\n",
       "      <td>29.059193</td>\n",
       "    </tr>\n",
       "    <tr>\n",
       "      <th>50%</th>\n",
       "      <td>2008.000000</td>\n",
       "      <td>1.547160e+06</td>\n",
       "      <td>3914.000000</td>\n",
       "      <td>4.572900e+04</td>\n",
       "      <td>8.100000</td>\n",
       "      <td>27.013113</td>\n",
       "      <td>72.986887</td>\n",
       "      <td>31.957075</td>\n",
       "      <td>1.740755</td>\n",
       "      <td>0.000000</td>\n",
       "      <td>0.000000</td>\n",
       "      <td>19417.000000</td>\n",
       "      <td>14.250000</td>\n",
       "      <td>1.000000</td>\n",
       "      <td>34.512671</td>\n",
       "    </tr>\n",
       "    <tr>\n",
       "      <th>75%</th>\n",
       "      <td>2012.000000</td>\n",
       "      <td>6.516260e+06</td>\n",
       "      <td>12078.750000</td>\n",
       "      <td>1.663308e+05</td>\n",
       "      <td>10.700000</td>\n",
       "      <td>90.543701</td>\n",
       "      <td>99.561981</td>\n",
       "      <td>86.688538</td>\n",
       "      <td>52.830189</td>\n",
       "      <td>2.420755</td>\n",
       "      <td>0.000000</td>\n",
       "      <td>24007.000000</td>\n",
       "      <td>18.600000</td>\n",
       "      <td>3.000000</td>\n",
       "      <td>41.540011</td>\n",
       "    </tr>\n",
       "    <tr>\n",
       "      <th>max</th>\n",
       "      <td>2016.000000</td>\n",
       "      <td>2.128736e+08</td>\n",
       "      <td>269489.000000</td>\n",
       "      <td>4.007163e+06</td>\n",
       "      <td>28.900000</td>\n",
       "      <td>100.000000</td>\n",
       "      <td>100.000000</td>\n",
       "      <td>100.000000</td>\n",
       "      <td>100.000000</td>\n",
       "      <td>100.000000</td>\n",
       "      <td>100.000000</td>\n",
       "      <td>44962.000000</td>\n",
       "      <td>23.900000</td>\n",
       "      <td>3.000000</td>\n",
       "      <td>112.484143</td>\n",
       "    </tr>\n",
       "  </tbody>\n",
       "</table>\n",
       "</div>"
      ],
      "text/plain": [
       "              year  annual_payroll  establishments    employment  \\\n",
       "count   986.000000    9.860000e+02      986.000000  9.860000e+02   \n",
       "mean   2008.000000    1.098268e+07    14822.783976  2.264094e+05   \n",
       "std       4.901466    2.725970e+07    35173.618793  5.530495e+05   \n",
       "min    2000.000000    4.053000e+03       35.000000  1.620000e+02   \n",
       "25%    2004.000000    2.605378e+05      915.750000  8.930250e+03   \n",
       "50%    2008.000000    1.547160e+06     3914.000000  4.572900e+04   \n",
       "75%    2012.000000    6.516260e+06    12078.750000  1.663308e+05   \n",
       "max    2016.000000    2.128736e+08   269489.000000  4.007163e+06   \n",
       "\n",
       "       unemployment  no_drought          D0          D1          D2  \\\n",
       "count    986.000000  986.000000  986.000000  986.000000  986.000000   \n",
       "mean       8.810649   42.027815   57.972185   42.710534   27.444563   \n",
       "std        3.878966   40.470664   40.470664   41.357286   36.588673   \n",
       "min        2.900000    0.000000    0.000000    0.000000    0.000000   \n",
       "25%        5.800000    0.438019    9.456299    0.000000    0.000000   \n",
       "50%        8.100000   27.013113   72.986887   31.957075    1.740755   \n",
       "75%       10.700000   90.543701   99.561981   86.688538   52.830189   \n",
       "max       28.900000  100.000000  100.000000  100.000000  100.000000   \n",
       "\n",
       "               D3          D4  income_avg_per_capita  poverty_percent  \\\n",
       "count  986.000000  986.000000             986.000000       986.000000   \n",
       "mean    14.475111    7.364515           20892.258621        14.500000   \n",
       "std     31.578546   22.143001            6131.120533         4.912018   \n",
       "min      0.000000    0.000000           13239.000000         5.800000   \n",
       "25%      0.000000    0.000000           16856.000000        11.000000   \n",
       "50%      0.000000    0.000000           19417.000000        14.250000   \n",
       "75%      2.420755    0.000000           24007.000000        18.600000   \n",
       "max    100.000000  100.000000           44962.000000        23.900000   \n",
       "\n",
       "       drought_level  pay_per_employee  \n",
       "count     986.000000        986.000000  \n",
       "mean        1.326572         37.126181  \n",
       "std         1.245843         13.366675  \n",
       "min         0.000000         10.734532  \n",
       "25%         0.000000         29.059193  \n",
       "50%         1.000000         34.512671  \n",
       "75%         3.000000         41.540011  \n",
       "max         3.000000        112.484143  "
      ]
     },
     "execution_count": 18,
     "metadata": {},
     "output_type": "execute_result"
    }
   ],
   "source": [
    "#Central Tendency, Variability\n",
    "project_df.describe()"
   ]
  },
  {
   "cell_type": "code",
   "execution_count": 19,
   "metadata": {},
   "outputs": [
    {
     "data": {
      "text/plain": [
       "(986, 19)"
      ]
     },
     "execution_count": 19,
     "metadata": {},
     "output_type": "execute_result"
    }
   ],
   "source": [
    "#size\n",
    "project_df.shape"
   ]
  },
  {
   "cell_type": "code",
   "execution_count": 20,
   "metadata": {},
   "outputs": [
    {
     "data": {
      "text/html": [
       "<div>\n",
       "<style scoped>\n",
       "    .dataframe tbody tr th:only-of-type {\n",
       "        vertical-align: middle;\n",
       "    }\n",
       "\n",
       "    .dataframe tbody tr th {\n",
       "        vertical-align: top;\n",
       "    }\n",
       "\n",
       "    .dataframe thead th {\n",
       "        text-align: right;\n",
       "    }\n",
       "</style>\n",
       "<table border=\"1\" class=\"dataframe\">\n",
       "  <thead>\n",
       "    <tr style=\"text-align: right;\">\n",
       "      <th></th>\n",
       "      <th>Number of Missing Values</th>\n",
       "    </tr>\n",
       "  </thead>\n",
       "  <tbody>\n",
       "    <tr>\n",
       "      <th>FIPS</th>\n",
       "      <td>0</td>\n",
       "    </tr>\n",
       "    <tr>\n",
       "      <th>county</th>\n",
       "      <td>0</td>\n",
       "    </tr>\n",
       "    <tr>\n",
       "      <th>year</th>\n",
       "      <td>0</td>\n",
       "    </tr>\n",
       "    <tr>\n",
       "      <th>annual_payroll</th>\n",
       "      <td>0</td>\n",
       "    </tr>\n",
       "    <tr>\n",
       "      <th>establishments</th>\n",
       "      <td>0</td>\n",
       "    </tr>\n",
       "    <tr>\n",
       "      <th>employment</th>\n",
       "      <td>0</td>\n",
       "    </tr>\n",
       "    <tr>\n",
       "      <th>unemployment</th>\n",
       "      <td>0</td>\n",
       "    </tr>\n",
       "    <tr>\n",
       "      <th>no_drought</th>\n",
       "      <td>0</td>\n",
       "    </tr>\n",
       "    <tr>\n",
       "      <th>D0</th>\n",
       "      <td>0</td>\n",
       "    </tr>\n",
       "    <tr>\n",
       "      <th>D1</th>\n",
       "      <td>0</td>\n",
       "    </tr>\n",
       "    <tr>\n",
       "      <th>D2</th>\n",
       "      <td>0</td>\n",
       "    </tr>\n",
       "    <tr>\n",
       "      <th>D3</th>\n",
       "      <td>0</td>\n",
       "    </tr>\n",
       "    <tr>\n",
       "      <th>D4</th>\n",
       "      <td>0</td>\n",
       "    </tr>\n",
       "    <tr>\n",
       "      <th>income_avg_per_capita</th>\n",
       "      <td>0</td>\n",
       "    </tr>\n",
       "    <tr>\n",
       "      <th>poverty_percent</th>\n",
       "      <td>0</td>\n",
       "    </tr>\n",
       "    <tr>\n",
       "      <th>ses_group</th>\n",
       "      <td>0</td>\n",
       "    </tr>\n",
       "    <tr>\n",
       "      <th>ses_index</th>\n",
       "      <td>0</td>\n",
       "    </tr>\n",
       "    <tr>\n",
       "      <th>drought_level</th>\n",
       "      <td>0</td>\n",
       "    </tr>\n",
       "    <tr>\n",
       "      <th>pay_per_employee</th>\n",
       "      <td>0</td>\n",
       "    </tr>\n",
       "  </tbody>\n",
       "</table>\n",
       "</div>"
      ],
      "text/plain": [
       "                       Number of Missing Values\n",
       "FIPS                                          0\n",
       "county                                        0\n",
       "year                                          0\n",
       "annual_payroll                                0\n",
       "establishments                                0\n",
       "employment                                    0\n",
       "unemployment                                  0\n",
       "no_drought                                    0\n",
       "D0                                            0\n",
       "D1                                            0\n",
       "D2                                            0\n",
       "D3                                            0\n",
       "D4                                            0\n",
       "income_avg_per_capita                         0\n",
       "poverty_percent                               0\n",
       "ses_group                                     0\n",
       "ses_index                                     0\n",
       "drought_level                                 0\n",
       "pay_per_employee                              0"
      ]
     },
     "execution_count": 20,
     "metadata": {},
     "output_type": "execute_result"
    }
   ],
   "source": [
    "#Missing Values\n",
    "pd.DataFrame(project_df.isnull().sum()).rename(columns={0:'Number of Missing Values'})"
   ]
  },
  {
   "cell_type": "code",
   "execution_count": 21,
   "metadata": {},
   "outputs": [
    {
     "data": {
      "image/png": "[encoded data removed]",
      "text/plain": [
       "<Figure size 1080x360 with 1 Axes>"
      ]
     },
     "metadata": {
      "needs_background": "light"
     },
     "output_type": "display_data"
    }
   ],
   "source": [
    "#Time series plot\n",
    "avg_per_year_df = project_df.groupby(['year', 'ses_group'])[['employment', 'annual_payroll', 'establishments', 'unemployment', \n",
    "                                                    'pay_per_employee', 'drought_level']].mean().reset_index()\n",
    "\n",
    "fig, ax = plt.subplots(figsize=(15,5))\n",
    "\n",
    "sns.pointplot(x='year', y='drought_level', hue='ses_group', data=avg_per_year_df, palette=sns.color_palette('YlOrRd', 3))\n",
    "\n",
    "plt.sca(ax)\n",
    "plt.xticks(rotation=40);"
   ]
  },
  {
   "cell_type": "code",
   "execution_count": 22,
   "metadata": {
    "scrolled": false
   },
   "outputs": [
    {
     "data": {
      "image/png": "[encoded data removed]",
      "text/plain": [
       "<Figure size 1080x1440 with 6 Axes>"
      ]
     },
     "metadata": {
      "needs_background": "light"
     },
     "output_type": "display_data"
    }
   ],
   "source": [
    "fig, (ax1, ax2, ax3) = plt.subplots(3,1,figsize=(15, 20))\n",
    "sns.pointplot(x='year', y='pay_per_employee', hue='ses_group', size='drought_level', data=avg_per_year_df, \n",
    "             legend='false', ax=ax1)\n",
    "ax1.legend(loc='upper left', title='SES Group')\n",
    "ax1_1 = ax1.twinx()\n",
    "sns.pointplot(x='year', y='drought_level', data=avg_per_year_df, \n",
    "             legend='false', ax=ax1_1, markers='s', color='red', label='drought')\n",
    "ax1_1.legend(loc='lower right', labels=['drought'])\n",
    "\n",
    "sns.pointplot(x='year', y='establishments', hue='ses_group', data=avg_per_year_df, \n",
    "             legend='false', ax=ax2);\n",
    "ax2.legend(loc='upper left', title='SES Group')\n",
    "ax2_1 = ax2.twinx()\n",
    "sns.pointplot(x='year', y='drought_level', data=avg_per_year_df, \n",
    "             legend='false', ax=ax2_1, markers='s', color='red', label='drought')\n",
    "ax2_1.legend(loc='center right', labels=['drought'])\n",
    "\n",
    "sns.pointplot(x='year', y='unemployment', hue='ses_group', data=avg_per_year_df, \n",
    "             legend='false', ax=ax3);\n",
    "ax3.legend(loc='upper left', title='SES Group')\n",
    "ax3_1 = ax3.twinx()\n",
    "sns.pointplot(x='year', y='drought_level', data=avg_per_year_df, \n",
    "             ax=ax3_1, markers='s', color='red', label='drought')\n",
    "ax3_1.legend(loc='center right', labels=['drought'])\n",
    "\n",
    "for ax in fig.axes:\n",
    "    plt.sca(ax)\n",
    "    plt.xticks(rotation=40)"
   ]
  },
  {
   "cell_type": "markdown",
   "metadata": {},
   "source": [
    "### Change Per year for each variable by income and drought group\n",
    "This data frame contains the average change per year in each of the variables, grouped by drought level and socioeconomic group. In other words, each row contains one measured difference between subsequent years for all variables in that group. For example, the group DroughtLevel = 0, SESGroup = Low is the collection of all yearly differences of each variable for counties under these two designations."
   ]
  },
  {
   "cell_type": "code",
   "execution_count": 23,
   "metadata": {
    "scrolled": true
   },
   "outputs": [
    {
     "data": {
      "text/html": [
       "<div>\n",
       "<style scoped>\n",
       "    .dataframe tbody tr th:only-of-type {\n",
       "        vertical-align: middle;\n",
       "    }\n",
       "\n",
       "    .dataframe tbody tr th {\n",
       "        vertical-align: top;\n",
       "    }\n",
       "\n",
       "    .dataframe thead th {\n",
       "        text-align: right;\n",
       "    }\n",
       "</style>\n",
       "<table border=\"1\" class=\"dataframe\">\n",
       "  <thead>\n",
       "    <tr style=\"text-align: right;\">\n",
       "      <th></th>\n",
       "      <th></th>\n",
       "      <th></th>\n",
       "      <th>annual_payroll</th>\n",
       "      <th>establishments</th>\n",
       "      <th>employment</th>\n",
       "      <th>unemployment</th>\n",
       "      <th>pay_per_employee</th>\n",
       "    </tr>\n",
       "    <tr>\n",
       "      <th>drought_level</th>\n",
       "      <th>ses_group</th>\n",
       "      <th></th>\n",
       "      <th></th>\n",
       "      <th></th>\n",
       "      <th></th>\n",
       "      <th></th>\n",
       "      <th></th>\n",
       "    </tr>\n",
       "  </thead>\n",
       "  <tbody>\n",
       "    <tr>\n",
       "      <th rowspan=\"29\" valign=\"top\">0</th>\n",
       "      <th rowspan=\"12\" valign=\"top\">Low</th>\n",
       "      <th>3</th>\n",
       "      <td>2.179051e+07</td>\n",
       "      <td>34485.900000</td>\n",
       "      <td>587884.750000</td>\n",
       "      <td>1.890000</td>\n",
       "      <td>3.472633</td>\n",
       "    </tr>\n",
       "    <tr>\n",
       "      <th>14</th>\n",
       "      <td>-2.972880e+07</td>\n",
       "      <td>-47756.950000</td>\n",
       "      <td>-812549.250000</td>\n",
       "      <td>-1.645000</td>\n",
       "      <td>-5.688737</td>\n",
       "    </tr>\n",
       "    <tr>\n",
       "      <th>24</th>\n",
       "      <td>1.045914e+07</td>\n",
       "      <td>17084.625000</td>\n",
       "      <td>277242.187500</td>\n",
       "      <td>0.843750</td>\n",
       "      <td>5.997886</td>\n",
       "    </tr>\n",
       "    <tr>\n",
       "      <th>32</th>\n",
       "      <td>-1.021516e+07</td>\n",
       "      <td>-16935.446429</td>\n",
       "      <td>-272067.937500</td>\n",
       "      <td>-0.961607</td>\n",
       "      <td>-0.765060</td>\n",
       "    </tr>\n",
       "    <tr>\n",
       "      <th>40</th>\n",
       "      <td>9.149754e+06</td>\n",
       "      <td>14250.171429</td>\n",
       "      <td>221660.100000</td>\n",
       "      <td>0.017857</td>\n",
       "      <td>1.670882</td>\n",
       "    </tr>\n",
       "    <tr>\n",
       "      <th>43</th>\n",
       "      <td>1.253376e+06</td>\n",
       "      <td>1059.242105</td>\n",
       "      <td>18423.742105</td>\n",
       "      <td>-1.032895</td>\n",
       "      <td>1.407662</td>\n",
       "    </tr>\n",
       "    <tr>\n",
       "      <th>48</th>\n",
       "      <td>-1.036338e+07</td>\n",
       "      <td>-14801.842105</td>\n",
       "      <td>-237240.842105</td>\n",
       "      <td>-0.742105</td>\n",
       "      <td>-3.681963</td>\n",
       "    </tr>\n",
       "    <tr>\n",
       "      <th>57</th>\n",
       "      <td>-4.694375e+05</td>\n",
       "      <td>-1564.000000</td>\n",
       "      <td>-16493.000000</td>\n",
       "      <td>2.100000</td>\n",
       "      <td>-0.919752</td>\n",
       "    </tr>\n",
       "    <tr>\n",
       "      <th>66</th>\n",
       "      <td>-7.990000e+02</td>\n",
       "      <td>-36.000000</td>\n",
       "      <td>-207.000000</td>\n",
       "      <td>3.000000</td>\n",
       "      <td>1.030575</td>\n",
       "    </tr>\n",
       "    <tr>\n",
       "      <th>75</th>\n",
       "      <td>1.152517e+07</td>\n",
       "      <td>16916.833333</td>\n",
       "      <td>246437.500000</td>\n",
       "      <td>4.094444</td>\n",
       "      <td>6.689554</td>\n",
       "    </tr>\n",
       "    <tr>\n",
       "      <th>82</th>\n",
       "      <td>-8.641915e+05</td>\n",
       "      <td>-1658.083333</td>\n",
       "      <td>-20868.700000</td>\n",
       "      <td>-0.179444</td>\n",
       "      <td>0.813562</td>\n",
       "    </tr>\n",
       "    <tr>\n",
       "      <th>85</th>\n",
       "      <td>-1.038117e+07</td>\n",
       "      <td>-14411.416667</td>\n",
       "      <td>-217406.800000</td>\n",
       "      <td>-3.148333</td>\n",
       "      <td>-3.982765</td>\n",
       "    </tr>\n",
       "    <tr>\n",
       "      <th rowspan=\"9\" valign=\"top\">Middle</th>\n",
       "      <th>4</th>\n",
       "      <td>8.100817e+06</td>\n",
       "      <td>12085.993333</td>\n",
       "      <td>204387.240000</td>\n",
       "      <td>-0.468333</td>\n",
       "      <td>4.660038</td>\n",
       "    </tr>\n",
       "    <tr>\n",
       "      <th>15</th>\n",
       "      <td>-1.537682e+07</td>\n",
       "      <td>-22425.833333</td>\n",
       "      <td>-391148.000000</td>\n",
       "      <td>1.558333</td>\n",
       "      <td>-7.588905</td>\n",
       "    </tr>\n",
       "    <tr>\n",
       "      <th>25</th>\n",
       "      <td>8.720754e+06</td>\n",
       "      <td>11603.500000</td>\n",
       "      <td>203846.000000</td>\n",
       "      <td>0.795000</td>\n",
       "      <td>5.814823</td>\n",
       "    </tr>\n",
       "    <tr>\n",
       "      <th>33</th>\n",
       "      <td>1.045789e+06</td>\n",
       "      <td>-2392.500000</td>\n",
       "      <td>-27994.333333</td>\n",
       "      <td>0.038333</td>\n",
       "      <td>5.084630</td>\n",
       "    </tr>\n",
       "    <tr>\n",
       "      <th>41</th>\n",
       "      <td>-7.453361e+05</td>\n",
       "      <td>2446.240000</td>\n",
       "      <td>24796.813333</td>\n",
       "      <td>-1.295333</td>\n",
       "      <td>-3.312640</td>\n",
       "    </tr>\n",
       "    <tr>\n",
       "      <th>44</th>\n",
       "      <td>4.511326e+05</td>\n",
       "      <td>-440.948333</td>\n",
       "      <td>-4292.438333</td>\n",
       "      <td>-0.438000</td>\n",
       "      <td>1.338684</td>\n",
       "    </tr>\n",
       "    <tr>\n",
       "      <th>76</th>\n",
       "      <td>4.804450e+05</td>\n",
       "      <td>756.593750</td>\n",
       "      <td>6218.275298</td>\n",
       "      <td>1.823214</td>\n",
       "      <td>1.154369</td>\n",
       "    </tr>\n",
       "    <tr>\n",
       "      <th>83</th>\n",
       "      <td>-1.423176e+06</td>\n",
       "      <td>-2847.306667</td>\n",
       "      <td>-37225.062857</td>\n",
       "      <td>-0.190857</td>\n",
       "      <td>-0.167007</td>\n",
       "    </tr>\n",
       "    <tr>\n",
       "      <th>86</th>\n",
       "      <td>1.873205e+07</td>\n",
       "      <td>24826.140000</td>\n",
       "      <td>368719.920000</td>\n",
       "      <td>-3.502000</td>\n",
       "      <td>2.317225</td>\n",
       "    </tr>\n",
       "    <tr>\n",
       "      <th rowspan=\"8\" valign=\"top\">High</th>\n",
       "      <th>5</th>\n",
       "      <td>8.887807e+06</td>\n",
       "      <td>7505.089744</td>\n",
       "      <td>160674.397436</td>\n",
       "      <td>0.606410</td>\n",
       "      <td>7.245922</td>\n",
       "    </tr>\n",
       "    <tr>\n",
       "      <th>16</th>\n",
       "      <td>-1.460375e+07</td>\n",
       "      <td>-7528.666667</td>\n",
       "      <td>-219797.166667</td>\n",
       "      <td>0.316667</td>\n",
       "      <td>-6.018736</td>\n",
       "    </tr>\n",
       "    <tr>\n",
       "      <th>26</th>\n",
       "      <td>4.087759e+06</td>\n",
       "      <td>84.730769</td>\n",
       "      <td>49079.076923</td>\n",
       "      <td>1.207692</td>\n",
       "      <td>-0.117489</td>\n",
       "    </tr>\n",
       "    <tr>\n",
       "      <th>34</th>\n",
       "      <td>6.399536e+06</td>\n",
       "      <td>5242.197802</td>\n",
       "      <td>89458.208791</td>\n",
       "      <td>-0.907692</td>\n",
       "      <td>8.800989</td>\n",
       "    </tr>\n",
       "    <tr>\n",
       "      <th>42</th>\n",
       "      <td>-5.074864e+06</td>\n",
       "      <td>-4903.274725</td>\n",
       "      <td>-82522.978022</td>\n",
       "      <td>-0.230769</td>\n",
       "      <td>-5.377894</td>\n",
       "    </tr>\n",
       "    <tr>\n",
       "      <th>45</th>\n",
       "      <td>7.750359e+05</td>\n",
       "      <td>168.615385</td>\n",
       "      <td>3967.692308</td>\n",
       "      <td>-0.446154</td>\n",
       "      <td>1.835329</td>\n",
       "    </tr>\n",
       "    <tr>\n",
       "      <th>77</th>\n",
       "      <td>6.121902e+04</td>\n",
       "      <td>-110.942308</td>\n",
       "      <td>-4435.634615</td>\n",
       "      <td>1.694231</td>\n",
       "      <td>1.042636</td>\n",
       "    </tr>\n",
       "    <tr>\n",
       "      <th>84</th>\n",
       "      <td>5.033754e+05</td>\n",
       "      <td>-4.230769</td>\n",
       "      <td>629.538462</td>\n",
       "      <td>-0.646154</td>\n",
       "      <td>1.493861</td>\n",
       "    </tr>\n",
       "  </tbody>\n",
       "</table>\n",
       "</div>"
      ],
      "text/plain": [
       "                            annual_payroll  establishments     employment  \\\n",
       "drought_level ses_group                                                     \n",
       "0             Low       3     2.179051e+07    34485.900000  587884.750000   \n",
       "                        14   -2.972880e+07   -47756.950000 -812549.250000   \n",
       "                        24    1.045914e+07    17084.625000  277242.187500   \n",
       "                        32   -1.021516e+07   -16935.446429 -272067.937500   \n",
       "                        40    9.149754e+06    14250.171429  221660.100000   \n",
       "                        43    1.253376e+06     1059.242105   18423.742105   \n",
       "                        48   -1.036338e+07   -14801.842105 -237240.842105   \n",
       "                        57   -4.694375e+05    -1564.000000  -16493.000000   \n",
       "                        66   -7.990000e+02      -36.000000    -207.000000   \n",
       "                        75    1.152517e+07    16916.833333  246437.500000   \n",
       "                        82   -8.641915e+05    -1658.083333  -20868.700000   \n",
       "                        85   -1.038117e+07   -14411.416667 -217406.800000   \n",
       "              Middle    4     8.100817e+06    12085.993333  204387.240000   \n",
       "                        15   -1.537682e+07   -22425.833333 -391148.000000   \n",
       "                        25    8.720754e+06    11603.500000  203846.000000   \n",
       "                        33    1.045789e+06    -2392.500000  -27994.333333   \n",
       "                        41   -7.453361e+05     2446.240000   24796.813333   \n",
       "                        44    4.511326e+05     -440.948333   -4292.438333   \n",
       "                        76    4.804450e+05      756.593750    6218.275298   \n",
       "                        83   -1.423176e+06    -2847.306667  -37225.062857   \n",
       "                        86    1.873205e+07    24826.140000  368719.920000   \n",
       "              High      5     8.887807e+06     7505.089744  160674.397436   \n",
       "                        16   -1.460375e+07    -7528.666667 -219797.166667   \n",
       "                        26    4.087759e+06       84.730769   49079.076923   \n",
       "                        34    6.399536e+06     5242.197802   89458.208791   \n",
       "                        42   -5.074864e+06    -4903.274725  -82522.978022   \n",
       "                        45    7.750359e+05      168.615385    3967.692308   \n",
       "                        77    6.121902e+04     -110.942308   -4435.634615   \n",
       "                        84    5.033754e+05       -4.230769     629.538462   \n",
       "\n",
       "                            unemployment  pay_per_employee  \n",
       "drought_level ses_group                                     \n",
       "0             Low       3       1.890000          3.472633  \n",
       "                        14     -1.645000         -5.688737  \n",
       "                        24      0.843750          5.997886  \n",
       "                        32     -0.961607         -0.765060  \n",
       "                        40      0.017857          1.670882  \n",
       "                        43     -1.032895          1.407662  \n",
       "                        48     -0.742105         -3.681963  \n",
       "                        57      2.100000         -0.919752  \n",
       "                        66      3.000000          1.030575  \n",
       "                        75      4.094444          6.689554  \n",
       "                        82     -0.179444          0.813562  \n",
       "                        85     -3.148333         -3.982765  \n",
       "              Middle    4      -0.468333          4.660038  \n",
       "                        15      1.558333         -7.588905  \n",
       "                        25      0.795000          5.814823  \n",
       "                        33      0.038333          5.084630  \n",
       "                        41     -1.295333         -3.312640  \n",
       "                        44     -0.438000          1.338684  \n",
       "                        76      1.823214          1.154369  \n",
       "                        83     -0.190857         -0.167007  \n",
       "                        86     -3.502000          2.317225  \n",
       "              High      5       0.606410          7.245922  \n",
       "                        16      0.316667         -6.018736  \n",
       "                        26      1.207692         -0.117489  \n",
       "                        34     -0.907692          8.800989  \n",
       "                        42     -0.230769         -5.377894  \n",
       "                        45     -0.446154          1.835329  \n",
       "                        77      1.694231          1.042636  \n",
       "                        84     -0.646154          1.493861  "
      ]
     },
     "execution_count": 23,
     "metadata": {},
     "output_type": "execute_result"
    }
   ],
   "source": [
    "# keep only desired variables\n",
    "temp_df = project_df.drop(['no_drought', 'D0', 'D1', 'D2', 'D3', 'D4', 'income_avg_per_capita', 'poverty_percent'],axis=1)\n",
    "\n",
    "# group by year, drought level, and SES\n",
    "# average values for each group for each year\n",
    "# use function diff to find difference between average values for each year\n",
    "temp_df = (temp_df\n",
    " .groupby(['year', 'drought_level', 'ses_group']).mean().dropna(how='all').reset_index()\n",
    " .groupby(['drought_level', 'ses_group'])\n",
    " .apply(lambda x: x.sort_values(by='year').diff())\n",
    ")\n",
    "\n",
    "# divide by year column to make differences all in terms of 1 year\n",
    "# drop Year column as it is no longer meaningful\n",
    "change_per_year_df = temp_df.apply(lambda x: x / temp_df['year']).dropna().drop('year', axis=1)\n",
    "change_per_year_df.head(29)"
   ]
  },
  {
   "cell_type": "markdown",
   "metadata": {},
   "source": [
    "### Tests for Effect of Drought on Economic Performance across SES Groups"
   ]
  },
  {
   "cell_type": "markdown",
   "metadata": {},
   "source": [
    "In this section, we used the `change_per_year_df` that contains the yearly changes for each variable across each Drought-SES grouping. To test for effect of drought level on Economic Performance we chose three variables--Unemployment, Number of Establishments, and Pay Per Employee--and performed difference of mean tests for these variables across the different groups. Independent 2-sample t-tests or ANOVA tests were used where appropriate, and where assumptions were violated, the non-parametric Kruskal-Wallis test was used."
   ]
  },
  {
   "cell_type": "code",
   "execution_count": 24,
   "metadata": {},
   "outputs": [],
   "source": [
    "## collect the data groups into dictionaries for ease of access\n",
    "\n",
    "temp = change_per_year_df.reset_index().groupby(['drought_level', 'ses_group'])\n",
    "unemp_dict = {}\n",
    "est_dict = {}\n",
    "ppe_dict = {}\n",
    "for name, df in temp:\n",
    "    key = 'Drought: %s, SES: %s' % (name)\n",
    "    unemp_dict[key] = df.unemployment\n",
    "    est_dict[key] = df.establishments\n",
    "    ppe_dict[key] = df.pay_per_employee"
   ]
  },
  {
   "cell_type": "markdown",
   "metadata": {},
   "source": [
    "### Unemployment Comparisons by Drought Level and SES Group\n",
    "First, overall effects of drought on Unemployment Rates were tested, without specifying different socio-economic groups."
   ]
  },
  {
   "cell_type": "code",
   "execution_count": 25,
   "metadata": {},
   "outputs": [],
   "source": [
    "#separate different groups\n",
    "\n",
    "unemploy_none = np.concatenate((unemp_dict['Drought: 0, SES: Low'], \n",
    "                                     unemp_dict['Drought: 0, SES: Middle'], \n",
    "                                     unemp_dict['Drought: 0, SES: High']))\n",
    "unemploy_dry = np.concatenate((unemp_dict['Drought: 1, SES: Low'], \n",
    "                                     unemp_dict['Drought: 1, SES: Middle'], \n",
    "                                     unemp_dict['Drought: 1, SES: High']))\n",
    "unemploy_moderate = np.concatenate((unemp_dict['Drought: 2, SES: Low'], \n",
    "                                     unemp_dict['Drought: 2, SES: Middle'], \n",
    "                                     unemp_dict['Drought: 2, SES: High']))\n",
    "unemploy_severe = np.concatenate((unemp_dict['Drought: 3, SES: Low'], \n",
    "                                     unemp_dict['Drought: 3, SES: Middle'], \n",
    "                                     unemp_dict['Drought: 3, SES: High']))"
   ]
  },
  {
   "cell_type": "code",
   "execution_count": 26,
   "metadata": {},
   "outputs": [
    {
     "data": {
      "image/png": "[encoded data removed]",
      "text/plain": [
       "<Figure size 864x504 with 4 Axes>"
      ]
     },
     "metadata": {
      "needs_background": "light"
     },
     "output_type": "display_data"
    }
   ],
   "source": [
    "fig, (a1, a2) = plt.subplots(2, 2,figsize=(12,7))\n",
    "fig.suptitle('Yearly change in Unemployment distributions, by Drought Level')\n",
    "a1[0].hist(unemploy_none) \n",
    "a1[0].set_title('Drought: none');\n",
    "a1[1].hist(unemploy_dry)\n",
    "a1[1].set_title('Drought: abnormally dry');\n",
    "a2[0].hist(unemploy_moderate) \n",
    "a2[0].set_title('Drought: moderate');\n",
    "a2[1].hist(unemploy_severe)\n",
    "a2[1].set_title('Drought: severe');\n"
   ]
  },
  {
   "cell_type": "markdown",
   "metadata": {},
   "source": [
    "The following table shows the result of comparing all pairs of drought levels and performing t-tests on their yearly change in unemployment means. The table shows that no significant differences in means were found at a significance level of $\\alpha = 0.05$, which suggests that drought levels do not affect economic performance overall. These results were verified with the ANOVA test (`f_oneway`), and because of the skew of the last distribution, the non-parametric Kruskal-Wallis test was used to make sure our conclusions were valid (see following two cells). All tests showed lack of significant effect.\n",
    "\n",
    "We used `alternative='smaller'` because we hypothesized that the change in unemployment rates would be smaller (smaller in magnitude or more negative) for counties experiencing less severe drought."
   ]
  },
  {
   "cell_type": "code",
   "execution_count": 27,
   "metadata": {},
   "outputs": [
    {
     "name": "stdout",
     "output_type": "stream",
     "text": [
      "Overall Comparisons for Change in Unemployment by Drought Level\n"
     ]
    },
    {
     "data": {
      "text/html": [
       "<div>\n",
       "<style scoped>\n",
       "    .dataframe tbody tr th:only-of-type {\n",
       "        vertical-align: middle;\n",
       "    }\n",
       "\n",
       "    .dataframe tbody tr th {\n",
       "        vertical-align: top;\n",
       "    }\n",
       "\n",
       "    .dataframe thead th {\n",
       "        text-align: right;\n",
       "    }\n",
       "</style>\n",
       "<table border=\"1\" class=\"dataframe\">\n",
       "  <thead>\n",
       "    <tr style=\"text-align: right;\">\n",
       "      <th></th>\n",
       "      <th>t statistic</th>\n",
       "      <th>p value</th>\n",
       "      <th>df</th>\n",
       "    </tr>\n",
       "  </thead>\n",
       "  <tbody>\n",
       "    <tr>\n",
       "      <th>None - Dry</th>\n",
       "      <td>-0.307547</td>\n",
       "      <td>0.379828</td>\n",
       "      <td>52.0</td>\n",
       "    </tr>\n",
       "    <tr>\n",
       "      <th>None - Moderate</th>\n",
       "      <td>-0.694435</td>\n",
       "      <td>0.245250</td>\n",
       "      <td>52.0</td>\n",
       "    </tr>\n",
       "    <tr>\n",
       "      <th>None - Severe</th>\n",
       "      <td>-0.187516</td>\n",
       "      <td>0.426000</td>\n",
       "      <td>51.0</td>\n",
       "    </tr>\n",
       "    <tr>\n",
       "      <th>Dry - Moderate</th>\n",
       "      <td>-0.186549</td>\n",
       "      <td>0.426400</td>\n",
       "      <td>48.0</td>\n",
       "    </tr>\n",
       "    <tr>\n",
       "      <th>Dry - Severe</th>\n",
       "      <td>0.131935</td>\n",
       "      <td>0.552201</td>\n",
       "      <td>47.0</td>\n",
       "    </tr>\n",
       "    <tr>\n",
       "      <th>Moderate - Severe</th>\n",
       "      <td>0.395975</td>\n",
       "      <td>0.653042</td>\n",
       "      <td>47.0</td>\n",
       "    </tr>\n",
       "  </tbody>\n",
       "</table>\n",
       "</div>"
      ],
      "text/plain": [
       "                   t statistic   p value    df\n",
       "None - Dry           -0.307547  0.379828  52.0\n",
       "None - Moderate      -0.694435  0.245250  52.0\n",
       "None - Severe        -0.187516  0.426000  51.0\n",
       "Dry - Moderate       -0.186549  0.426400  48.0\n",
       "Dry - Severe          0.131935  0.552201  47.0\n",
       "Moderate - Severe     0.395975  0.653042  47.0"
      ]
     },
     "execution_count": 27,
     "metadata": {},
     "output_type": "execute_result"
    }
   ],
   "source": [
    "print('Overall Comparisons for Change in Unemployment by Drought Level')\n",
    "\n",
    "# perform 2 sample t-test on all pairs of drought levels\n",
    "pd.DataFrame(\n",
    "    {'None - Dry': ttest_ind(unemploy_none, unemploy_dry, alternative='smaller'),\n",
    "     'None - Moderate': ttest_ind(unemploy_none, unemploy_moderate, alternative='smaller'), \n",
    "     'None - Severe': ttest_ind(unemploy_none, unemploy_severe, alternative='smaller'),\n",
    "     'Dry - Moderate': ttest_ind(unemploy_dry, unemploy_moderate, alternative='smaller'),\n",
    "     'Dry - Severe': ttest_ind(unemploy_dry, unemploy_severe, alternative='smaller'),\n",
    "     'Moderate - Severe': ttest_ind(unemploy_moderate, unemploy_severe, alternative='smaller'),\n",
    "    },\n",
    "    index = ['t statistic', 'p value', 'df']).T"
   ]
  },
  {
   "cell_type": "code",
   "execution_count": 28,
   "metadata": {},
   "outputs": [
    {
     "data": {
      "text/plain": [
       "(F_onewayResult(statistic=0.10767273203879904, pvalue=0.9554313159550631),\n",
       " KruskalResult(statistic=1.6867551132013705, pvalue=0.6398824409412616))"
      ]
     },
     "execution_count": 28,
     "metadata": {},
     "output_type": "execute_result"
    }
   ],
   "source": [
    "# perform ANOVA test to double check t-test results\n",
    "# perform Kruskal-Wallis becuase of skew in histogram to verify results\n",
    "\n",
    "(f_oneway(unemploy_none, unemploy_dry, unemploy_moderate, unemploy_severe), \n",
    "kruskal(unemploy_none, unemploy_dry, unemploy_moderate, unemploy_severe))"
   ]
  },
  {
   "cell_type": "markdown",
   "metadata": {},
   "source": [
    "Next, effects of drought levels were compared for each socio-economic group. The following histograms show that because of the relatively small sample size, we could not ensure the normality assumption was met, and so the Kruskal-Wallis non-parametric test was used rather than two-sample t-tests to test for difference in means across groups."
   ]
  },
  {
   "cell_type": "code",
   "execution_count": 29,
   "metadata": {},
   "outputs": [
    {
     "data": {
      "image/png": "[encoded data removed]",
      "text/plain": [
       "<Figure size 1080x252 with 3 Axes>"
      ]
     },
     "metadata": {
      "needs_background": "light"
     },
     "output_type": "display_data"
    }
   ],
   "source": [
    "fig, ax = plt.subplots(1,3, figsize=(15,3.5))\n",
    "fig.suptitle('Select Histograms of Change in Unemployment from Drought-SES Groupings')\n",
    "\n",
    "ax[0].hist(unemp_dict['Drought: 0, SES: Low'])\n",
    "ax[0].set_title('Drought: none, SES: low')\n",
    "ax[1].hist(unemp_dict['Drought: 1, SES: Middle'])\n",
    "ax[1].set_title('Drought: dry, SES: middle')\n",
    "ax[2].hist(unemp_dict['Drought: 3, SES: High'])\n",
    "ax[2].set_title('Drought: severe, SES: high');\n",
    "plt.subplots_adjust(top=0.8)"
   ]
  },
  {
   "cell_type": "markdown",
   "metadata": {},
   "source": [
    "The first table below shows the results of performing the same tests as above, but for each socio-economic group. Again, no significant differences were found at a significance level of $\\alpha = 0.05$, which suggests no effect of drought on change in unemployment among socio-economic groups.\n",
    "\n",
    "The second table shows the results of comparing changes in unemployment of each socio-economic group at each level of drought. This test was performed because we hypothesized that lower socio-economic communities would be more affected by severe drought levels than higher socio-economic groups. No significant differences in means were found, which again suggests that drought does not influence change in unemployment rates."
   ]
  },
  {
   "cell_type": "code",
   "execution_count": 30,
   "metadata": {},
   "outputs": [
    {
     "data": {
      "text/html": [
       "<div>\n",
       "<style scoped>\n",
       "    .dataframe tbody tr th:only-of-type {\n",
       "        vertical-align: middle;\n",
       "    }\n",
       "\n",
       "    .dataframe tbody tr th {\n",
       "        vertical-align: top;\n",
       "    }\n",
       "\n",
       "    .dataframe thead th {\n",
       "        text-align: right;\n",
       "    }\n",
       "</style>\n",
       "<table border=\"1\" class=\"dataframe\">\n",
       "  <thead>\n",
       "    <tr style=\"text-align: right;\">\n",
       "      <th></th>\n",
       "      <th>H statistic</th>\n",
       "      <th>p value</th>\n",
       "    </tr>\n",
       "  </thead>\n",
       "  <tbody>\n",
       "    <tr>\n",
       "      <th>Low</th>\n",
       "      <td>0.408804</td>\n",
       "      <td>0.938418</td>\n",
       "    </tr>\n",
       "    <tr>\n",
       "      <th>Middle</th>\n",
       "      <td>1.189573</td>\n",
       "      <td>0.755506</td>\n",
       "    </tr>\n",
       "    <tr>\n",
       "      <th>High</th>\n",
       "      <td>1.067935</td>\n",
       "      <td>0.784820</td>\n",
       "    </tr>\n",
       "  </tbody>\n",
       "</table>\n",
       "</div>"
      ],
      "text/plain": [
       "        H statistic   p value\n",
       "Low        0.408804  0.938418\n",
       "Middle     1.189573  0.755506\n",
       "High       1.067935  0.784820"
      ]
     },
     "metadata": {},
     "output_type": "display_data"
    },
    {
     "data": {
      "text/html": [
       "<div>\n",
       "<style scoped>\n",
       "    .dataframe tbody tr th:only-of-type {\n",
       "        vertical-align: middle;\n",
       "    }\n",
       "\n",
       "    .dataframe tbody tr th {\n",
       "        vertical-align: top;\n",
       "    }\n",
       "\n",
       "    .dataframe thead th {\n",
       "        text-align: right;\n",
       "    }\n",
       "</style>\n",
       "<table border=\"1\" class=\"dataframe\">\n",
       "  <thead>\n",
       "    <tr style=\"text-align: right;\">\n",
       "      <th></th>\n",
       "      <th>H statistic</th>\n",
       "      <th>p value</th>\n",
       "    </tr>\n",
       "  </thead>\n",
       "  <tbody>\n",
       "    <tr>\n",
       "      <th>None</th>\n",
       "      <td>0.181034</td>\n",
       "      <td>0.913459</td>\n",
       "    </tr>\n",
       "    <tr>\n",
       "      <th>Dry</th>\n",
       "      <td>0.347077</td>\n",
       "      <td>0.840685</td>\n",
       "    </tr>\n",
       "    <tr>\n",
       "      <th>Moderate</th>\n",
       "      <td>0.116308</td>\n",
       "      <td>0.943505</td>\n",
       "    </tr>\n",
       "    <tr>\n",
       "      <th>Severe</th>\n",
       "      <td>0.392000</td>\n",
       "      <td>0.822012</td>\n",
       "    </tr>\n",
       "  </tbody>\n",
       "</table>\n",
       "</div>"
      ],
      "text/plain": [
       "          H statistic   p value\n",
       "None         0.181034  0.913459\n",
       "Dry          0.347077  0.840685\n",
       "Moderate     0.116308  0.943505\n",
       "Severe       0.392000  0.822012"
      ]
     },
     "metadata": {},
     "output_type": "display_data"
    }
   ],
   "source": [
    "# perform Kruskal-Wallis test for difference in means by drought levels across each socio-economic group\n",
    "\n",
    "display(pd.DataFrame({'Low': list(kruskal(unemp_dict['Drought: 0, SES: Low'], \n",
    "         unemp_dict['Drought: 1, SES: Low'], \n",
    "         unemp_dict['Drought: 2, SES: Low'], \n",
    "         unemp_dict['Drought: 3, SES: Low'])),\n",
    " 'Middle': list(kruskal(unemp_dict['Drought: 0, SES: Middle'], \n",
    "         unemp_dict['Drought: 1, SES: Middle'], \n",
    "         unemp_dict['Drought: 2, SES: Middle'], \n",
    "         unemp_dict['Drought: 3, SES: Middle'])),\n",
    " 'High': list(kruskal(unemp_dict['Drought: 0, SES: High'], \n",
    "         unemp_dict['Drought: 1, SES: High'], \n",
    "         unemp_dict['Drought: 2, SES: High'], \n",
    "         unemp_dict['Drought: 3, SES: High']))}, index=['H statistic', 'p value']).T)\n",
    "\n",
    "# perform Kruskal-Wallis test for difference in means by socio-economic group across drought levels\n",
    "\n",
    "display(pd.DataFrame({'None': list(kruskal(unemp_dict['Drought: 0, SES: Low'], \n",
    "         unemp_dict['Drought: 0, SES: Middle'], \n",
    "         unemp_dict['Drought: 0, SES: High'])),\n",
    " 'Dry': list(kruskal(unemp_dict['Drought: 1, SES: Low'], \n",
    "         unemp_dict['Drought: 1, SES: Middle'], \n",
    "         unemp_dict['Drought: 1, SES: High'])),\n",
    " 'Moderate': list(kruskal(unemp_dict['Drought: 2, SES: Low'], \n",
    "         unemp_dict['Drought: 2, SES: Middle'], \n",
    "         unemp_dict['Drought: 2, SES: High'])),\n",
    " 'Severe': list(kruskal(unemp_dict['Drought: 3, SES: Low'], \n",
    "         unemp_dict['Drought: 3, SES: Middle'], \n",
    "         unemp_dict['Drought: 3, SES: High']))}, index=['H statistic', 'p value']).T)"
   ]
  },
  {
   "cell_type": "markdown",
   "metadata": {},
   "source": [
    "### Pay Per Employee Comparisons by Drought Level and SES Group"
   ]
  },
  {
   "cell_type": "markdown",
   "metadata": {},
   "source": [
    "First, overall effects of drought on Pay Per Employee were tested, without specifying different socio-economic groups."
   ]
  },
  {
   "cell_type": "code",
   "execution_count": 31,
   "metadata": {},
   "outputs": [],
   "source": [
    "## separate different groups\n",
    "\n",
    "ppe_none = np.concatenate((ppe_dict['Drought: 0, SES: Low'], \n",
    "                                     ppe_dict['Drought: 0, SES: Middle'], \n",
    "                                     ppe_dict['Drought: 0, SES: High']))\n",
    "ppe_dry = np.concatenate((ppe_dict['Drought: 1, SES: Low'], \n",
    "                                     ppe_dict['Drought: 1, SES: Middle'], \n",
    "                                     ppe_dict['Drought: 1, SES: High']))\n",
    "ppe_moderate = np.concatenate((ppe_dict['Drought: 2, SES: Low'], \n",
    "                                     ppe_dict['Drought: 2, SES: Middle'], \n",
    "                                     ppe_dict['Drought: 2, SES: High']))\n",
    "ppe_severe = np.concatenate((ppe_dict['Drought: 3, SES: Low'], \n",
    "                                     ppe_dict['Drought: 3, SES: Middle'], \n",
    "                                     ppe_dict['Drought: 3, SES: High']))"
   ]
  },
  {
   "cell_type": "code",
   "execution_count": 32,
   "metadata": {},
   "outputs": [
    {
     "data": {
      "image/png": "[encoded data removed]",
      "text/plain": [
       "<Figure size 864x504 with 4 Axes>"
      ]
     },
     "metadata": {
      "needs_background": "light"
     },
     "output_type": "display_data"
    }
   ],
   "source": [
    "fig, (a1, a2) = plt.subplots(2, 2,figsize=(12,7))\n",
    "fig.suptitle('Yearly change in Pay Per Employee distributions, by Drought Level')\n",
    "a1[0].hist(ppe_none) \n",
    "a1[0].set_title('Drought: none');\n",
    "a1[1].hist(ppe_dry)\n",
    "a1[1].set_title('Drought: abnormally dry');\n",
    "a2[0].hist(ppe_moderate) \n",
    "a2[0].set_title('Drought: moderate');\n",
    "a2[1].hist(ppe_severe)\n",
    "a2[1].set_title('Drought: severe');\n"
   ]
  },
  {
   "cell_type": "markdown",
   "metadata": {},
   "source": [
    "The following table shows the result of comparing all pairs of drought levels and performing t-tests on their yearly change in Pay Per Employee means. The table shows that no significant differences in means were found at a significance level of $\\alpha = 0.05$, which suggests that drought levels do not affect pay per employee. These results were verified with the ANOVA test (`f_oneway`), and because of the skew of the apparent non-normality of one or more histogram, the non-parametric Kruskal-Wallis test was used to make sure our conclusions were valid (see following two cells). All tests showed lack of significant effect.\n",
    "\n",
    "We used `alternative='larger'` because we hypothesized that the change in Pay Per Employee would be larger for counties experiencing less severe drought."
   ]
  },
  {
   "cell_type": "code",
   "execution_count": 33,
   "metadata": {},
   "outputs": [
    {
     "name": "stdout",
     "output_type": "stream",
     "text": [
      "Overall Comparisons for Change in ppement by Drought Level\n"
     ]
    },
    {
     "data": {
      "text/html": [
       "<div>\n",
       "<style scoped>\n",
       "    .dataframe tbody tr th:only-of-type {\n",
       "        vertical-align: middle;\n",
       "    }\n",
       "\n",
       "    .dataframe tbody tr th {\n",
       "        vertical-align: top;\n",
       "    }\n",
       "\n",
       "    .dataframe thead th {\n",
       "        text-align: right;\n",
       "    }\n",
       "</style>\n",
       "<table border=\"1\" class=\"dataframe\">\n",
       "  <thead>\n",
       "    <tr style=\"text-align: right;\">\n",
       "      <th></th>\n",
       "      <th>t statistic</th>\n",
       "      <th>p value</th>\n",
       "      <th>df</th>\n",
       "    </tr>\n",
       "  </thead>\n",
       "  <tbody>\n",
       "    <tr>\n",
       "      <th>None - Dry</th>\n",
       "      <td>-0.529215</td>\n",
       "      <td>0.700546</td>\n",
       "      <td>52.0</td>\n",
       "    </tr>\n",
       "    <tr>\n",
       "      <th>None - Moderate</th>\n",
       "      <td>0.034361</td>\n",
       "      <td>0.486360</td>\n",
       "      <td>52.0</td>\n",
       "    </tr>\n",
       "    <tr>\n",
       "      <th>None - Severe</th>\n",
       "      <td>-0.346276</td>\n",
       "      <td>0.634720</td>\n",
       "      <td>51.0</td>\n",
       "    </tr>\n",
       "    <tr>\n",
       "      <th>Dry - Moderate</th>\n",
       "      <td>0.499017</td>\n",
       "      <td>0.310024</td>\n",
       "      <td>48.0</td>\n",
       "    </tr>\n",
       "    <tr>\n",
       "      <th>Dry - Severe</th>\n",
       "      <td>0.211716</td>\n",
       "      <td>0.416622</td>\n",
       "      <td>47.0</td>\n",
       "    </tr>\n",
       "    <tr>\n",
       "      <th>Moderate - Severe</th>\n",
       "      <td>-0.336084</td>\n",
       "      <td>0.630848</td>\n",
       "      <td>47.0</td>\n",
       "    </tr>\n",
       "  </tbody>\n",
       "</table>\n",
       "</div>"
      ],
      "text/plain": [
       "                   t statistic   p value    df\n",
       "None - Dry           -0.529215  0.700546  52.0\n",
       "None - Moderate       0.034361  0.486360  52.0\n",
       "None - Severe        -0.346276  0.634720  51.0\n",
       "Dry - Moderate        0.499017  0.310024  48.0\n",
       "Dry - Severe          0.211716  0.416622  47.0\n",
       "Moderate - Severe    -0.336084  0.630848  47.0"
      ]
     },
     "execution_count": 33,
     "metadata": {},
     "output_type": "execute_result"
    }
   ],
   "source": [
    "print('Overall Comparisons for Change in ppement by Drought Level')\n",
    "\n",
    "# perform 2 sample t-test on all pairs of drought levels\n",
    "pd.DataFrame(\n",
    "    {'None - Dry': ttest_ind(ppe_none, ppe_dry, alternative='larger'),\n",
    "     'None - Moderate': ttest_ind(ppe_none, ppe_moderate, alternative='larger'), \n",
    "     'None - Severe': ttest_ind(ppe_none, ppe_severe, alternative='larger'),\n",
    "     'Dry - Moderate': ttest_ind(ppe_dry, ppe_moderate, alternative='larger'),\n",
    "     'Dry - Severe': ttest_ind(ppe_dry, ppe_severe, alternative='larger'),\n",
    "     'Moderate - Severe': ttest_ind(ppe_moderate, ppe_severe, alternative='larger'),\n",
    "    },\n",
    "    index = ['t statistic', 'p value', 'df']).T"
   ]
  },
  {
   "cell_type": "code",
   "execution_count": 34,
   "metadata": {},
   "outputs": [
    {
     "data": {
      "text/plain": [
       "(F_onewayResult(statistic=0.140109153552748, pvalue=0.9357564081672843),\n",
       " KruskalResult(statistic=0.2986416136591288, pvalue=0.9602837533745237))"
      ]
     },
     "execution_count": 34,
     "metadata": {},
     "output_type": "execute_result"
    }
   ],
   "source": [
    "# perform ANOVA test to double check t-test results\n",
    "# perform Kruskal-Wallis becuase of skew in histogram to verify results\n",
    "\n",
    "(f_oneway(ppe_none, ppe_dry, ppe_moderate, ppe_severe), \n",
    "kruskal(ppe_none, ppe_dry, ppe_moderate, ppe_severe))"
   ]
  },
  {
   "cell_type": "markdown",
   "metadata": {},
   "source": [
    "Next, effects of drought levels were compared for each socio-economic group. The following histograms show that because of the relatively small sample size, we could not ensure the normality assumption was met, and so the Kruskal-Wallis non-parametric test was used rather than two-sample t-tests to test for difference in means across groups."
   ]
  },
  {
   "cell_type": "code",
   "execution_count": 35,
   "metadata": {},
   "outputs": [
    {
     "data": {
      "image/png": "[encoded data removed]",
      "text/plain": [
       "<Figure size 1080x252 with 3 Axes>"
      ]
     },
     "metadata": {
      "needs_background": "light"
     },
     "output_type": "display_data"
    }
   ],
   "source": [
    "fig, ax = plt.subplots(1,3, figsize=(15,3.5))\n",
    "fig.suptitle('Select Histograms of Change in Pay Per Employee from Drought-SES Groupings')\n",
    "\n",
    "ax[0].hist(ppe_dict['Drought: 0, SES: Low'])\n",
    "ax[0].set_title('Drought: none, SES: low')\n",
    "ax[1].hist(ppe_dict['Drought: 1, SES: Middle'])\n",
    "ax[1].set_title('Drought: dry, SES: middle')\n",
    "ax[2].hist(ppe_dict['Drought: 3, SES: High'])\n",
    "ax[2].set_title('Drought: severe, SES: high');\n",
    "plt.subplots_adjust(top=0.8)"
   ]
  },
  {
   "cell_type": "markdown",
   "metadata": {},
   "source": [
    "The first table below shows the results of performing the same tests as above, but for each socio-economic group. Again, no significant differences were found at a significance level of $\\alpha = 0.05$, which suggests no effect of drought on change in Pay Per Employee among socio-economic groups.\n",
    "\n",
    "The second table shows the results of comparing changes in Pay Per Employee of each socio-economic group at each level of drought. This test was performed because we hypothesized that lower socio-economic communities would be more affected by severe drought levels than higher socio-economic groups. No significant differences in means were found, which again suggests that drought does not influence change in Pay Per Employee."
   ]
  },
  {
   "cell_type": "code",
   "execution_count": 36,
   "metadata": {},
   "outputs": [
    {
     "data": {
      "text/html": [
       "<div>\n",
       "<style scoped>\n",
       "    .dataframe tbody tr th:only-of-type {\n",
       "        vertical-align: middle;\n",
       "    }\n",
       "\n",
       "    .dataframe tbody tr th {\n",
       "        vertical-align: top;\n",
       "    }\n",
       "\n",
       "    .dataframe thead th {\n",
       "        text-align: right;\n",
       "    }\n",
       "</style>\n",
       "<table border=\"1\" class=\"dataframe\">\n",
       "  <thead>\n",
       "    <tr style=\"text-align: right;\">\n",
       "      <th></th>\n",
       "      <th>H statistic</th>\n",
       "      <th>p value</th>\n",
       "    </tr>\n",
       "  </thead>\n",
       "  <tbody>\n",
       "    <tr>\n",
       "      <th>Low</th>\n",
       "      <td>1.045025</td>\n",
       "      <td>0.790359</td>\n",
       "    </tr>\n",
       "    <tr>\n",
       "      <th>Middle</th>\n",
       "      <td>0.112393</td>\n",
       "      <td>0.990310</td>\n",
       "    </tr>\n",
       "    <tr>\n",
       "      <th>High</th>\n",
       "      <td>1.019565</td>\n",
       "      <td>0.796518</td>\n",
       "    </tr>\n",
       "  </tbody>\n",
       "</table>\n",
       "</div>"
      ],
      "text/plain": [
       "        H statistic   p value\n",
       "Low        1.045025  0.790359\n",
       "Middle     0.112393  0.990310\n",
       "High       1.019565  0.796518"
      ]
     },
     "metadata": {},
     "output_type": "display_data"
    },
    {
     "data": {
      "text/html": [
       "<div>\n",
       "<style scoped>\n",
       "    .dataframe tbody tr th:only-of-type {\n",
       "        vertical-align: middle;\n",
       "    }\n",
       "\n",
       "    .dataframe tbody tr th {\n",
       "        vertical-align: top;\n",
       "    }\n",
       "\n",
       "    .dataframe thead th {\n",
       "        text-align: right;\n",
       "    }\n",
       "</style>\n",
       "<table border=\"1\" class=\"dataframe\">\n",
       "  <thead>\n",
       "    <tr style=\"text-align: right;\">\n",
       "      <th></th>\n",
       "      <th>H statistic</th>\n",
       "      <th>p value</th>\n",
       "    </tr>\n",
       "  </thead>\n",
       "  <tbody>\n",
       "    <tr>\n",
       "      <th>None</th>\n",
       "      <td>0.331418</td>\n",
       "      <td>0.847293</td>\n",
       "    </tr>\n",
       "    <tr>\n",
       "      <th>Dry</th>\n",
       "      <td>0.633231</td>\n",
       "      <td>0.728611</td>\n",
       "    </tr>\n",
       "    <tr>\n",
       "      <th>Moderate</th>\n",
       "      <td>0.825231</td>\n",
       "      <td>0.661917</td>\n",
       "    </tr>\n",
       "    <tr>\n",
       "      <th>Severe</th>\n",
       "      <td>0.033556</td>\n",
       "      <td>0.983362</td>\n",
       "    </tr>\n",
       "  </tbody>\n",
       "</table>\n",
       "</div>"
      ],
      "text/plain": [
       "          H statistic   p value\n",
       "None         0.331418  0.847293\n",
       "Dry          0.633231  0.728611\n",
       "Moderate     0.825231  0.661917\n",
       "Severe       0.033556  0.983362"
      ]
     },
     "metadata": {},
     "output_type": "display_data"
    }
   ],
   "source": [
    "# perform Kruskal-Wallis test for difference in means by drought levels across each socio-economic group\n",
    "\n",
    "display(pd.DataFrame({'Low': list(kruskal(ppe_dict['Drought: 0, SES: Low'], \n",
    "         ppe_dict['Drought: 1, SES: Low'], \n",
    "         ppe_dict['Drought: 2, SES: Low'], \n",
    "         ppe_dict['Drought: 3, SES: Low'])),\n",
    " 'Middle': list(kruskal(ppe_dict['Drought: 0, SES: Middle'], \n",
    "         ppe_dict['Drought: 1, SES: Middle'], \n",
    "         ppe_dict['Drought: 2, SES: Middle'], \n",
    "         ppe_dict['Drought: 3, SES: Middle'])),\n",
    " 'High': list(kruskal(ppe_dict['Drought: 0, SES: High'], \n",
    "         ppe_dict['Drought: 1, SES: High'], \n",
    "         ppe_dict['Drought: 2, SES: High'], \n",
    "         ppe_dict['Drought: 3, SES: High']))}, index=['H statistic', 'p value']).T)\n",
    "\n",
    "# perform Kruskal-Wallis test for difference in means by socio-economic group across drought levels\n",
    "\n",
    "display(pd.DataFrame({'None': list(kruskal(ppe_dict['Drought: 0, SES: Low'], \n",
    "         ppe_dict['Drought: 0, SES: Middle'], \n",
    "         ppe_dict['Drought: 0, SES: High'])),\n",
    " 'Dry': list(kruskal(ppe_dict['Drought: 1, SES: Low'], \n",
    "         ppe_dict['Drought: 1, SES: Middle'], \n",
    "         ppe_dict['Drought: 1, SES: High'])),\n",
    " 'Moderate': list(kruskal(ppe_dict['Drought: 2, SES: Low'], \n",
    "         ppe_dict['Drought: 2, SES: Middle'], \n",
    "         ppe_dict['Drought: 2, SES: High'])),\n",
    " 'Severe': list(kruskal(ppe_dict['Drought: 3, SES: Low'], \n",
    "         ppe_dict['Drought: 3, SES: Middle'], \n",
    "         ppe_dict['Drought: 3, SES: High']))}, index=['H statistic', 'p value']).T)"
   ]
  },
  {
   "cell_type": "markdown",
   "metadata": {},
   "source": [
    "### Establishments Comparisons by Drought Level"
   ]
  },
  {
   "cell_type": "markdown",
   "metadata": {},
   "source": [
    "First, overall effects of drought on Number of Establishments were tested, without specifying different socio-economic groups."
   ]
  },
  {
   "cell_type": "code",
   "execution_count": 37,
   "metadata": {},
   "outputs": [],
   "source": [
    "## separate different groups\n",
    "\n",
    "est_none = np.concatenate((est_dict['Drought: 0, SES: Low'], \n",
    "                                     est_dict['Drought: 0, SES: Middle'], \n",
    "                                     est_dict['Drought: 0, SES: High']))\n",
    "est_dry = np.concatenate((est_dict['Drought: 1, SES: Low'], \n",
    "                                     est_dict['Drought: 1, SES: Middle'], \n",
    "                                     est_dict['Drought: 1, SES: High']))\n",
    "est_moderate = np.concatenate((est_dict['Drought: 2, SES: Low'], \n",
    "                                     est_dict['Drought: 2, SES: Middle'], \n",
    "                                     est_dict['Drought: 2, SES: High']))\n",
    "est_severe = np.concatenate((est_dict['Drought: 3, SES: Low'], \n",
    "                                     est_dict['Drought: 3, SES: Middle'], \n",
    "                                     est_dict['Drought: 3, SES: High']))"
   ]
  },
  {
   "cell_type": "code",
   "execution_count": 38,
   "metadata": {},
   "outputs": [
    {
     "data": {
      "image/png": "[encoded data removed]",
      "text/plain": [
       "<Figure size 864x504 with 4 Axes>"
      ]
     },
     "metadata": {
      "needs_background": "light"
     },
     "output_type": "display_data"
    }
   ],
   "source": [
    "fig, (a1, a2) = plt.subplots(2, 2,figsize=(12,7))\n",
    "fig.suptitle('Yearly change in Number of Establishments distributions, by Drought Level')\n",
    "a1[0].hist(est_none) \n",
    "a1[0].set_title('Drought: none');\n",
    "a1[1].hist(est_dry)\n",
    "a1[1].set_title('Drought: abnormally dry');\n",
    "a2[0].hist(est_moderate) \n",
    "a2[0].set_title('Drought: moderate');\n",
    "a2[1].hist(est_severe)\n",
    "a2[1].set_title('Drought: severe');\n"
   ]
  },
  {
   "cell_type": "markdown",
   "metadata": {},
   "source": [
    "The following table shows the result of comparing all pairs of drought levels and performing t-tests on their yearly change in Number of Establishments means. The table shows that no significant differences in means were found at a significance level of $\\alpha = 0.05$, which suggests that drought levels do not effect Number of Establishments. These results were verified with the ANOVA test (`f_oneway`), and because of the apparent non-normality of one or more of the histograms, the non-parametric Kruskal-Wallis test was used to make sure our conclusions were valid (see following two cells). All tests showed lack of significant effect.\n",
    "\n",
    "We used `alternative='larger'` because we hypothesized that the change in Number of Establishments would be larger (more establishments added per year) for counties experiencing less severe drought."
   ]
  },
  {
   "cell_type": "code",
   "execution_count": 39,
   "metadata": {},
   "outputs": [
    {
     "data": {
      "text/html": [
       "<style  type=\"text/css\" >\n",
       "</style><table id=\"T_41726e5a_8ce8_11e9_bf6e_4e00f0014b01\" ><caption>Overall Comparisons for Change in Number of Establishments by Drought Level</caption><thead>    <tr>        <th class=\"blank level0\" ></th>        <th class=\"col_heading level0 col0\" >t statistic</th>        <th class=\"col_heading level0 col1\" >p value</th>        <th class=\"col_heading level0 col2\" >df</th>    </tr></thead><tbody>\n",
       "                <tr>\n",
       "                        <th id=\"T_41726e5a_8ce8_11e9_bf6e_4e00f0014b01level0_row0\" class=\"row_heading level0 row0\" >None - Dry</th>\n",
       "                        <td id=\"T_41726e5a_8ce8_11e9_bf6e_4e00f0014b01row0_col0\" class=\"data row0 col0\" >-0.116823</td>\n",
       "                        <td id=\"T_41726e5a_8ce8_11e9_bf6e_4e00f0014b01row0_col1\" class=\"data row0 col1\" >0.546275</td>\n",
       "                        <td id=\"T_41726e5a_8ce8_11e9_bf6e_4e00f0014b01row0_col2\" class=\"data row0 col2\" >52</td>\n",
       "            </tr>\n",
       "            <tr>\n",
       "                        <th id=\"T_41726e5a_8ce8_11e9_bf6e_4e00f0014b01level0_row1\" class=\"row_heading level0 row1\" >None - Moderate</th>\n",
       "                        <td id=\"T_41726e5a_8ce8_11e9_bf6e_4e00f0014b01row1_col0\" class=\"data row1 col0\" >-0.145695</td>\n",
       "                        <td id=\"T_41726e5a_8ce8_11e9_bf6e_4e00f0014b01row1_col1\" class=\"data row1 col1\" >0.557637</td>\n",
       "                        <td id=\"T_41726e5a_8ce8_11e9_bf6e_4e00f0014b01row1_col2\" class=\"data row1 col2\" >52</td>\n",
       "            </tr>\n",
       "            <tr>\n",
       "                        <th id=\"T_41726e5a_8ce8_11e9_bf6e_4e00f0014b01level0_row2\" class=\"row_heading level0 row2\" >None - Severe</th>\n",
       "                        <td id=\"T_41726e5a_8ce8_11e9_bf6e_4e00f0014b01row2_col0\" class=\"data row2 col0\" >-0.0918182</td>\n",
       "                        <td id=\"T_41726e5a_8ce8_11e9_bf6e_4e00f0014b01row2_col1\" class=\"data row2 col1\" >0.536399</td>\n",
       "                        <td id=\"T_41726e5a_8ce8_11e9_bf6e_4e00f0014b01row2_col2\" class=\"data row2 col2\" >51</td>\n",
       "            </tr>\n",
       "            <tr>\n",
       "                        <th id=\"T_41726e5a_8ce8_11e9_bf6e_4e00f0014b01level0_row3\" class=\"row_heading level0 row3\" >Dry - Moderate</th>\n",
       "                        <td id=\"T_41726e5a_8ce8_11e9_bf6e_4e00f0014b01row3_col0\" class=\"data row3 col0\" >-0.0710751</td>\n",
       "                        <td id=\"T_41726e5a_8ce8_11e9_bf6e_4e00f0014b01row3_col1\" class=\"data row3 col1\" >0.528183</td>\n",
       "                        <td id=\"T_41726e5a_8ce8_11e9_bf6e_4e00f0014b01row3_col2\" class=\"data row3 col2\" >48</td>\n",
       "            </tr>\n",
       "            <tr>\n",
       "                        <th id=\"T_41726e5a_8ce8_11e9_bf6e_4e00f0014b01level0_row4\" class=\"row_heading level0 row4\" >Dry - Severe</th>\n",
       "                        <td id=\"T_41726e5a_8ce8_11e9_bf6e_4e00f0014b01row4_col0\" class=\"data row4 col0\" >0.0106711</td>\n",
       "                        <td id=\"T_41726e5a_8ce8_11e9_bf6e_4e00f0014b01row4_col1\" class=\"data row4 col1\" >0.495766</td>\n",
       "                        <td id=\"T_41726e5a_8ce8_11e9_bf6e_4e00f0014b01row4_col2\" class=\"data row4 col2\" >47</td>\n",
       "            </tr>\n",
       "            <tr>\n",
       "                        <th id=\"T_41726e5a_8ce8_11e9_bf6e_4e00f0014b01level0_row5\" class=\"row_heading level0 row5\" >Moderate - Severe</th>\n",
       "                        <td id=\"T_41726e5a_8ce8_11e9_bf6e_4e00f0014b01row5_col0\" class=\"data row5 col0\" >0.0722652</td>\n",
       "                        <td id=\"T_41726e5a_8ce8_11e9_bf6e_4e00f0014b01row5_col1\" class=\"data row5 col1\" >0.471349</td>\n",
       "                        <td id=\"T_41726e5a_8ce8_11e9_bf6e_4e00f0014b01row5_col2\" class=\"data row5 col2\" >47</td>\n",
       "            </tr>\n",
       "    </tbody></table>"
      ],
      "text/plain": [
       "<pandas.io.formats.style.Styler at 0x1c41cf28d0>"
      ]
     },
     "execution_count": 39,
     "metadata": {},
     "output_type": "execute_result"
    }
   ],
   "source": [
    "#print('Overall Comparisons for Change in Number of Establishments by Drought Level')\n",
    "\n",
    "# perform 2 sample t-test on all pairs of drought levels\n",
    "pd.DataFrame(\n",
    "    {'None - Dry': ttest_ind(est_none, est_dry, alternative='larger'),\n",
    "     'None - Moderate': ttest_ind(est_none, est_moderate, alternative='larger'), \n",
    "     'None - Severe': ttest_ind(est_none, est_severe, alternative='larger'),\n",
    "     'Dry - Moderate': ttest_ind(est_dry, est_moderate, alternative='larger'),\n",
    "     'Dry - Severe': ttest_ind(est_dry, est_severe, alternative='larger'),\n",
    "     'Moderate - Severe': ttest_ind(est_moderate, est_severe, alternative='larger'),\n",
    "    },\n",
    "    index = ['t statistic', 'p value', 'df']).T.style.set_caption('Overall Comparisons for Change in Number of Establishments by Drought Level')"
   ]
  },
  {
   "cell_type": "code",
   "execution_count": 40,
   "metadata": {},
   "outputs": [
    {
     "data": {
      "text/plain": [
       "(F_onewayResult(statistic=0.009812149444284516, pvalue=0.9986588806158291),\n",
       " KruskalResult(statistic=0.5011459916046306, pvalue=0.9186395702552006))"
      ]
     },
     "execution_count": 40,
     "metadata": {},
     "output_type": "execute_result"
    }
   ],
   "source": [
    "# perform ANOVA test to double check t-test results\n",
    "# perform Kruskal-Wallis becuase of skew in histogram to verify results\n",
    "\n",
    "(f_oneway(est_none, est_dry, est_moderate, est_severe), \n",
    "kruskal(est_none, est_dry, est_moderate, est_severe))"
   ]
  },
  {
   "cell_type": "markdown",
   "metadata": {},
   "source": [
    "Next, effects of drought levels were compared for each socio-economic group. The following histograms show that because of the relatively small sample size, we could not ensure the normality assumption was met, and so the Kruskal-Wallis non-parametric test was used rather than two-sample t-tests to test for difference in means across groups."
   ]
  },
  {
   "cell_type": "code",
   "execution_count": 41,
   "metadata": {},
   "outputs": [
    {
     "data": {
      "image/png": "[encoded data removed]",
      "text/plain": [
       "<Figure size 1080x252 with 3 Axes>"
      ]
     },
     "metadata": {
      "needs_background": "light"
     },
     "output_type": "display_data"
    }
   ],
   "source": [
    "fig, ax = plt.subplots(1,3, figsize=(15,3.5))\n",
    "fig.suptitle('Select Histograms of Change in Number of Establishments from Drought-SES Groupings')\n",
    "\n",
    "ax[0].hist(est_dict['Drought: 0, SES: Low'])\n",
    "ax[0].set_title('Drought: none, SES: low')\n",
    "ax[1].hist(est_dict['Drought: 1, SES: Middle'])\n",
    "ax[1].set_title('Drought: dry, SES: middle')\n",
    "ax[2].hist(est_dict['Drought: 3, SES: High'])\n",
    "ax[2].set_title('Drought: severe, SES: high');\n",
    "plt.subplots_adjust(top=0.8)"
   ]
  },
  {
   "cell_type": "markdown",
   "metadata": {},
   "source": [
    "The first table below shows the results of performing the same tests as above, but for each socio-economic group. Again, no significant differences were found at a significance level of $\\alpha = 0.05$, which suggests no effect of drought on change in Number of Establishments among socio-economic groups.\n",
    "\n",
    "The second table shows the results of comparing changes in Number of Establishments of each socio-economic group at each level of drought. This test was performed because we hypothesized that lower socio-economic communities would be more affected by severe drought levels than higher socio-economic groups. No significant differences in means were found, which again suggests that drought does not influence change in Number of Establishments."
   ]
  },
  {
   "cell_type": "code",
   "execution_count": 42,
   "metadata": {},
   "outputs": [
    {
     "data": {
      "text/html": [
       "<div>\n",
       "<style scoped>\n",
       "    .dataframe tbody tr th:only-of-type {\n",
       "        vertical-align: middle;\n",
       "    }\n",
       "\n",
       "    .dataframe tbody tr th {\n",
       "        vertical-align: top;\n",
       "    }\n",
       "\n",
       "    .dataframe thead th {\n",
       "        text-align: right;\n",
       "    }\n",
       "</style>\n",
       "<table border=\"1\" class=\"dataframe\">\n",
       "  <thead>\n",
       "    <tr style=\"text-align: right;\">\n",
       "      <th></th>\n",
       "      <th>H statistic</th>\n",
       "      <th>p value</th>\n",
       "    </tr>\n",
       "  </thead>\n",
       "  <tbody>\n",
       "    <tr>\n",
       "      <th>Low</th>\n",
       "      <td>0.474448</td>\n",
       "      <td>0.924468</td>\n",
       "    </tr>\n",
       "    <tr>\n",
       "      <th>Middle</th>\n",
       "      <td>0.120000</td>\n",
       "      <td>0.989334</td>\n",
       "    </tr>\n",
       "    <tr>\n",
       "      <th>High</th>\n",
       "      <td>0.985326</td>\n",
       "      <td>0.804803</td>\n",
       "    </tr>\n",
       "  </tbody>\n",
       "</table>\n",
       "</div>"
      ],
      "text/plain": [
       "        H statistic   p value\n",
       "Low        0.474448  0.924468\n",
       "Middle     0.120000  0.989334\n",
       "High       0.985326  0.804803"
      ]
     },
     "metadata": {},
     "output_type": "display_data"
    },
    {
     "data": {
      "text/html": [
       "<div>\n",
       "<style scoped>\n",
       "    .dataframe tbody tr th:only-of-type {\n",
       "        vertical-align: middle;\n",
       "    }\n",
       "\n",
       "    .dataframe tbody tr th {\n",
       "        vertical-align: top;\n",
       "    }\n",
       "\n",
       "    .dataframe thead th {\n",
       "        text-align: right;\n",
       "    }\n",
       "</style>\n",
       "<table border=\"1\" class=\"dataframe\">\n",
       "  <thead>\n",
       "    <tr style=\"text-align: right;\">\n",
       "      <th></th>\n",
       "      <th>H statistic</th>\n",
       "      <th>p value</th>\n",
       "    </tr>\n",
       "  </thead>\n",
       "  <tbody>\n",
       "    <tr>\n",
       "      <th>None</th>\n",
       "      <td>0.181034</td>\n",
       "      <td>0.913459</td>\n",
       "    </tr>\n",
       "    <tr>\n",
       "      <th>Dry</th>\n",
       "      <td>0.018462</td>\n",
       "      <td>0.990812</td>\n",
       "    </tr>\n",
       "    <tr>\n",
       "      <th>Moderate</th>\n",
       "      <td>0.612923</td>\n",
       "      <td>0.736047</td>\n",
       "    </tr>\n",
       "    <tr>\n",
       "      <th>Severe</th>\n",
       "      <td>1.062889</td>\n",
       "      <td>0.587755</td>\n",
       "    </tr>\n",
       "  </tbody>\n",
       "</table>\n",
       "</div>"
      ],
      "text/plain": [
       "          H statistic   p value\n",
       "None         0.181034  0.913459\n",
       "Dry          0.018462  0.990812\n",
       "Moderate     0.612923  0.736047\n",
       "Severe       1.062889  0.587755"
      ]
     },
     "metadata": {},
     "output_type": "display_data"
    }
   ],
   "source": [
    "# perform Kruskal-Wallis test for difference in means by drought levels across each socio-economic group\n",
    "\n",
    "display(pd.DataFrame({'Low': list(kruskal(est_dict['Drought: 0, SES: Low'], \n",
    "         est_dict['Drought: 1, SES: Low'], \n",
    "         est_dict['Drought: 2, SES: Low'], \n",
    "         est_dict['Drought: 3, SES: Low'])),\n",
    " 'Middle': list(kruskal(est_dict['Drought: 0, SES: Middle'], \n",
    "         est_dict['Drought: 1, SES: Middle'], \n",
    "         est_dict['Drought: 2, SES: Middle'], \n",
    "         est_dict['Drought: 3, SES: Middle'])),\n",
    " 'High': list(kruskal(est_dict['Drought: 0, SES: High'], \n",
    "         est_dict['Drought: 1, SES: High'], \n",
    "         est_dict['Drought: 2, SES: High'], \n",
    "         est_dict['Drought: 3, SES: High']))}, index=['H statistic', 'p value']).T)\n",
    "\n",
    "# perform Kruskal-Wallis test for difference in means by socio-economic group across drought levels\n",
    "\n",
    "display(pd.DataFrame({'None': list(kruskal(est_dict['Drought: 0, SES: Low'], \n",
    "         est_dict['Drought: 0, SES: Middle'], \n",
    "         est_dict['Drought: 0, SES: High'])),\n",
    " 'Dry': list(kruskal(est_dict['Drought: 1, SES: Low'], \n",
    "         est_dict['Drought: 1, SES: Middle'], \n",
    "         est_dict['Drought: 1, SES: High'])),\n",
    " 'Moderate': list(kruskal(est_dict['Drought: 2, SES: Low'], \n",
    "         est_dict['Drought: 2, SES: Middle'], \n",
    "         est_dict['Drought: 2, SES: High'])),\n",
    " 'Severe': list(kruskal(est_dict['Drought: 3, SES: Low'], \n",
    "         est_dict['Drought: 3, SES: Middle'], \n",
    "         est_dict['Drought: 3, SES: High']))}, index=['H statistic', 'p value']).T)"
   ]
  },
  {
   "cell_type": "markdown",
   "metadata": {},
   "source": [
    "The results of the above tests, and in particular the lack of any significant differences in mean changes in these variables across the different groups, suggests that drought levels do not affect economic performance, even across different socio-economic groups."
   ]
  },
  {
   "cell_type": "markdown",
   "metadata": {},
   "source": [
    "### Model Predictions of Pay from Drought Level\n"
   ]
  },
  {
   "cell_type": "code",
   "execution_count": 43,
   "metadata": {},
   "outputs": [
    {
     "name": "stdout",
     "output_type": "stream",
     "text": [
      "                            OLS Regression Results                            \n",
      "==============================================================================\n",
      "Dep. Variable:       pay_per_employee   R-squared:                       0.042\n",
      "Model:                            OLS   Adj. R-squared:                  0.041\n",
      "Method:                 Least Squares   F-statistic:                     42.77\n",
      "Date:                Wed, 12 Jun 2019   Prob (F-statistic):           9.87e-11\n",
      "Time:                        01:01:17   Log-Likelihood:                -3934.1\n",
      "No. Observations:                 986   AIC:                             7872.\n",
      "Df Residuals:                     984   BIC:                             7882.\n",
      "Df Model:                           1                                         \n",
      "Covariance Type:            nonrobust                                         \n",
      "=================================================================================\n",
      "                    coef    std err          t      P>|t|      [0.025      0.975]\n",
      "---------------------------------------------------------------------------------\n",
      "Intercept        34.2213      0.609     56.174      0.000      33.026      35.417\n",
      "drought_level     2.1898      0.335      6.540      0.000       1.533       2.847\n",
      "==============================================================================\n",
      "Omnibus:                      483.265   Durbin-Watson:                   0.234\n",
      "Prob(Omnibus):                  0.000   Jarque-Bera (JB):             3019.477\n",
      "Skew:                           2.196   Prob(JB):                         0.00\n",
      "Kurtosis:                      10.362   Cond. No.                         3.14\n",
      "==============================================================================\n",
      "\n",
      "Warnings:\n",
      "[1] Standard Errors assume that the covariance matrix of the errors is correctly specified.\n"
     ]
    }
   ],
   "source": [
    "#linear modelling\n",
    "outcome_1, predictors_1 = patsy.dmatrices(\"pay_per_employee ~ drought_level\", data = drought_levels)\n",
    "mod_1 = sm.OLS(outcome_1, predictors_1)\n",
    "res_1 = mod_1.fit()\n",
    "print(res_1.summary())"
   ]
  },
  {
   "cell_type": "markdown",
   "metadata": {},
   "source": [
    "The above linear model is looking at the relationship of predicting pay per employee from drought level. Using an alpha of .01, this first model would show that drought level significantly predicts pay. Knowing how many factors go into pay and socioeconomic status though a multivariate regression is needed to verify this. "
   ]
  },
  {
   "cell_type": "code",
   "execution_count": 44,
   "metadata": {},
   "outputs": [
    {
     "name": "stdout",
     "output_type": "stream",
     "text": [
      "                            OLS Regression Results                            \n",
      "==============================================================================\n",
      "Dep. Variable:       pay_per_employee   R-squared:                       0.002\n",
      "Model:                            OLS   Adj. R-squared:                  0.001\n",
      "Method:                 Least Squares   F-statistic:                     1.779\n",
      "Date:                Wed, 12 Jun 2019   Prob (F-statistic):              0.183\n",
      "Time:                        01:01:17   Log-Likelihood:                -3954.1\n",
      "No. Observations:                 986   AIC:                             7912.\n",
      "Df Residuals:                     984   BIC:                             7922.\n",
      "Df Model:                           1                                         \n",
      "Covariance Type:            nonrobust                                         \n",
      "==============================================================================================\n",
      "                                 coef    std err          t      P>|t|      [0.025      0.975]\n",
      "----------------------------------------------------------------------------------------------\n",
      "Intercept                     36.6059      0.577     63.410      0.000      35.473      37.739\n",
      "drought_level:unemployment     0.0440      0.033      1.334      0.183      -0.021       0.109\n",
      "==============================================================================\n",
      "Omnibus:                      491.163   Durbin-Watson:                   0.226\n",
      "Prob(Omnibus):                  0.000   Jarque-Bera (JB):             3201.535\n",
      "Skew:                           2.223   Prob(JB):                         0.00\n",
      "Kurtosis:                      10.626   Cond. No.                         23.8\n",
      "==============================================================================\n",
      "\n",
      "Warnings:\n",
      "[1] Standard Errors assume that the covariance matrix of the errors is correctly specified.\n"
     ]
    }
   ],
   "source": [
    "#multivariate regression\n",
    "outcome_2, predictors_2 = patsy.dmatrices(\"pay_per_employee ~ drought_level : unemployment\", data = drought_levels)\n",
    "mod_2 = sm.OLS(outcome_2, predictors_2)\n",
    "res_2 = mod_2.fit()\n",
    "print(res_2.summary())"
   ]
  },
  {
   "cell_type": "markdown",
   "metadata": {},
   "source": [
    "The above multivariate regression shows that with an alpha of .01, pay per employee is no longer significantly predictable from drought level. This was shown by only adding in one new variable, the unemployment. But our data contains several other factors which would increase the unpredictability of the model even further. Seeing this we can conclude that just like the figures throughout the report have shown, drought level has no significantly direct effect on low income communities."
   ]
  },
  {
   "cell_type": "markdown",
   "metadata": {},
   "source": [
    "# Ethics & Privacy"
   ]
  },
  {
   "cell_type": "markdown",
   "metadata": {},
   "source": [
    "As the data for this research will only require looking at quantitative economic measures such as income values from a county level, there will be no need for personal information if it presents itself as the granularity of our data is high. As for the drought data, there is no privacy issue. We do not believe that our question or datasets are invasive in nature because of the datasets we chose.  \n",
    "\n",
    "For our analyses, we refrained from making assumptions or generalization on the low income communities in order to not reinforce any harmful stereotypes. We also made sure that the ethnicities of households or individuals that are making up the census data are representative of the communities we are looking at. \n",
    "\n",
    "We assigned SES (social economic status) according to the poverty percentage, whereas usually it also takes into consideration education level and occupation. Drawing conclusions solely from poverty percentage might cause some misunderstanding, therefore we made sure to articulate our measures of SES in the analyses. "
   ]
  },
  {
   "cell_type": "markdown",
   "metadata": {},
   "source": [
    "# Conclusions"
   ]
  },
  {
   "cell_type": "markdown",
   "metadata": {},
   "source": [
    "- Time Series show that SES is more affected by the 2008 recession than anything else\n",
    "- More SES data may have made our project more conclusive\n",
    "    - Poor temporal resolution was present in many of the economic variables\n",
    "    - Binning of the SES data was also vague and not true to real SES values and more data would help organize this\n",
    "- Drought level varies greatly across a county, so assigning one drought level across the county \n",
    "    - Finer spatial resolution\n",
    "    - Ideally, would observe on zip code scale\n",
    "- Drought level is correlated with pay per employee. This can be seen through many our figures and the initial linear model\n",
    "    - when adding in many factors like unemployment or ses level, the predictability of the model and the results of our figures/graphs all lead to the same conclusion of failing to reject the null. \n"
   ]
  },
  {
   "cell_type": "markdown",
   "metadata": {},
   "source": [
    "# Discussion and Improvements\n",
    "\n",
    "- Although the census data is adjusted for inflation, it did not account for the 2008 crash. If we could remove the effect of the crash on the economic data, it might change the relationship we see between economic performance and drought. \n",
    "- There might be other factors influencing how much the drought affect the "
   ]
  },
  {
   "cell_type": "code",
   "execution_count": null,
   "metadata": {},
   "outputs": [],
   "source": []
  }
 ],
 "metadata": {
  "kernelspec": {
   "display_name": "Python 3",
   "language": "python",
   "name": "python3"
  },
  "language_info": {
   "codemirror_mode": {
    "name": "ipython",
    "version": 3
   },
   "file_extension": ".py",
   "mimetype": "text/x-python",
   "name": "python",
   "nbconvert_exporter": "python",
   "pygments_lexer": "ipython3",
   "version": "3.7.3"
  }
 },
 "nbformat": 4,
 "nbformat_minor": 2
}
