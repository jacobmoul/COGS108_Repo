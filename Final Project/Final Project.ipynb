{
 "cells": [
  {
   "cell_type": "markdown",
   "metadata": {},
   "source": [
    "# Project Name"
   ]
  },
  {
   "cell_type": "markdown",
   "metadata": {},
   "source": [
    "## Group Members and Contributions\n",
    "\n",
    " - Chiehkun (Timo) Chen\n",
    " - Jordan Daley\n",
    " - Jacob Moul, PID: A13548393\n",
    " - Hannah Peterson, A13724073\n",
    " - Yun (Denise) Tang\n",
    " - George Thomas\n"
   ]
  },
  {
   "cell_type": "markdown",
   "metadata": {},
   "source": [
    "## Introduction and Background"
   ]
  },
  {
   "cell_type": "markdown",
   "metadata": {},
   "source": [
    "### Background Research"
   ]
  },
  {
   "cell_type": "markdown",
   "metadata": {},
   "source": [
    "### Research Question"
   ]
  },
  {
   "cell_type": "markdown",
   "metadata": {},
   "source": [
    "Question: Did the 2011-19 drought in California disproportionately affect low-income communities?\n",
    "\n",
    "This project will examine the impacts of climate change on low-income communities (specifically through the climatic event of drought). We will focus on California, because it has experienced prolonged drought within the past decade (for 376 consecutive weeks—Dec 2011 - March 2019). In particular, we will investigate whether or not the California drought has had disproportionate negative effects on low-income communities compared to average and high-income communities. This question is important because as the effects of global warming become more severe, efforts must be made to protect communities that are most vulnerable to these negative effects.\n",
    "\n",
    "To answer this question we are planning on analyzing different indicators of economic well being and different effects of drought for various communities over time, from before during and after the most recent drought. For example, we plan to investigate the relationships between income in communities and costs associated with the drought, such as utility rates, as well as potential health issues, such as respiratory illnesses, that are known to increase in conjunction with drought."
   ]
  },
  {
   "cell_type": "markdown",
   "metadata": {},
   "source": [
    "### Hypothesis"
   ]
  },
  {
   "cell_type": "markdown",
   "metadata": {},
   "source": [
    "Hypothesis: The 2011-19 drought in California did disproportionately affect low-income communities.\n",
    "\n",
    "We expect to find that these communities will have suffered more than relatively better-off communities because they have fewer safeguards to deal with environmental events, and also have less means to bear the cost of higher utility or healthcare rates, for example. "
   ]
  },
  {
   "cell_type": "markdown",
   "metadata": {},
   "source": [
    "## Data"
   ]
  },
  {
   "cell_type": "markdown",
   "metadata": {},
   "source": [
    "### Data Sets"
   ]
  },
  {
   "cell_type": "markdown",
   "metadata": {},
   "source": [
    "**Community Economic Data**\n",
    " - Data Set Name: 'cbp[yr]co.txt' (For years 2012-2016)\n",
    "      - We modified these files to include only observations for California, and they have been renamed 'cbp[yr]co_mod.csv'\n",
    " - Source: https://www.census.gov/programs-surveys/cbp/data/datasets.html\n",
    "\n",
    "> These data sets are County Business Pattern data sets, and are provided with the description: “This series includes the number of establishments, employment during the week of March 12, first quarter payroll, and annual payroll. This data is useful for studying the economic activity of small areas; analyzing economic changes over time; and as a benchmark for other statistical series, surveys, and databases between economic censuses”. After being condensed to just the state of California, the 2016 data set (out of many others) is composed of 36616 observations of 26 variables, several of which are identifying information such as state or county code. In addition, it contains values for first quarter payroll, annual payroll, and number of employees, among other variables, for different industries in each county of California. This data comes from the US Census Bureau. All of these data sets are downloadable in csv format.\n"
   ]
  },
  {
   "cell_type": "markdown",
   "metadata": {},
   "source": [
    "## Data Cleaning/Pre-Processing"
   ]
  },
  {
   "cell_type": "code",
   "execution_count": 1,
   "metadata": {
    "collapsed": true
   },
   "outputs": [],
   "source": [
    "import pandas as pd\n",
    "import numpy as np\n",
    "import seaborn as sns\n",
    "import glob"
   ]
  },
  {
   "cell_type": "code",
   "execution_count": 2,
   "metadata": {
    "collapsed": true
   },
   "outputs": [],
   "source": [
    "### Import County Business Patterns Data, add year to each table\n",
    "\n",
    "cbp00 = pd.read_csv('Data/cb_patterns/cbp00co_mod.csv')\n",
    "cbp01 = pd.read_csv('Data/cb_patterns/cbp01co_mod.csv')\n",
    "cbp02 = pd.read_csv('Data/cb_patterns/cbp02co_mod.csv')\n",
    "cbp03 = pd.read_csv('Data/cb_patterns/cbp03co_mod.csv')\n",
    "cbp04 = pd.read_csv('Data/cb_patterns/cbp04co_mod.csv')\n",
    "cbp05 = pd.read_csv('Data/cb_patterns/cbp05co_mod.csv')\n",
    "cbp06 = pd.read_csv('Data/cb_patterns/cbp06co_mod.csv')\n",
    "cbp07 = pd.read_csv('Data/cb_patterns/cbp07co_mod.csv')\n",
    "cbp08 = pd.read_csv('Data/cb_patterns/cbp08co_mod.csv')\n",
    "cbp09 = pd.read_csv('Data/cb_patterns/cbp09co_mod.csv')\n",
    "cbp10 = pd.read_csv('Data/cb_patterns/cbp10co_mod.csv')\n",
    "cbp11 = pd.read_csv('Data/cb_patterns/cbp11co_mod.csv')\n",
    "cbp12 = pd.read_csv('Data/cb_patterns/cbp12co_mod.csv')\n",
    "cbp13 = pd.read_csv('Data/cb_patterns/cbp13co_mod.csv')\n",
    "cbp14 = pd.read_csv('Data/cb_patterns/cbp14co_mod.csv')\n",
    "cbp15 = pd.read_csv('Data/cb_patterns/cbp15co_mod.csv')\n",
    "cbp16 = pd.read_csv('Data/cb_patterns/cbp16co_mod.csv')\n",
    "\n",
    "cbp00['year'] = 2000\n",
    "cbp01['year'] = 2001\n",
    "cbp02['year'] = 2002\n",
    "cbp03['year'] = 2003\n",
    "cbp04['year'] = 2004\n",
    "cbp05['year'] = 2005\n",
    "cbp06['year'] = 2006\n",
    "cbp07['year'] = 2007\n",
    "cbp08['year'] = 2008\n",
    "cbp09['year'] = 2009\n",
    "cbp10['year'] = 2010\n",
    "cbp11['year'] = 2011\n",
    "cbp12['year'] = 2012\n",
    "cbp13['year'] = 2013\n",
    "cbp14['year'] = 2014\n",
    "cbp15['year'] = 2015\n",
    "cbp16['year'] = 2016\n",
    "\n",
    "cbp_data = [cbp00, cbp01, cbp02, cbp03, cbp04, cbp05, cbp06, cbp07, cbp08, \n",
    "            cbp09, cbp10, cbp11, cbp12, cbp13, cbp14, cbp15, cbp16]"
   ]
  },
  {
   "cell_type": "code",
   "execution_count": 3,
   "metadata": {
    "collapsed": true
   },
   "outputs": [],
   "source": [
    "### Wrangle data\n",
    "\n",
    "# Variables to be used in CBP analysis, fips is combined state and county code; for others, see county_layout_2015.txt\n",
    "cbp_vars = ['fips', 'emp', 'ap', 'est', 'year']\n",
    "\n",
    "simplified_cbp_data = []\n",
    "\n",
    "for df in cbp_data:    \n",
    "    # reformat FIPS county code for merging\n",
    "    df[['fipstate', 'fipscty']] = df[['fipstate', 'fipscty']].astype(str)\n",
    "    df['fips'] = df.fipstate.str.zfill(2) + df.fipscty.str.zfill(3)\n",
    "    \n",
    "    # select aggregate county data\n",
    "    df = df[df.naics == '------']\n",
    "    \n",
    "    # drop unneccesary columns\n",
    "    df = df[cbp_vars]\n",
    "    \n",
    "    simplified_cbp_data.append(df)"
   ]
  },
  {
   "cell_type": "code",
   "execution_count": 4,
   "metadata": {
    "collapsed": true
   },
   "outputs": [],
   "source": [
    "cbp_final = pd.concat(simplified_cbp_data).reset_index(drop=True)\n",
    "cbp_final = cbp_final.rename(columns={'fips': 'FIPS', 'emp': 'Employment', 'ap': 'Annual Payroll', \n",
    "                                      'est': 'Establishments', 'year': 'Year'})"
   ]
  },
  {
   "cell_type": "code",
   "execution_count": 5,
   "metadata": {
    "collapsed": true
   },
   "outputs": [],
   "source": [
    "### Import and Wrangle Drought Data\n",
    "\n",
    "# collect all drought file names\n",
    "drought_files = glob.glob('Data/drought/*')\n",
    "\n",
    "# import all drought tables\n",
    "drought_data = []\n",
    "for file in drought_files:\n",
    "    drought_data.append(pd.read_csv(file))\n",
    "\n",
    "simplified_drought_data = []\n",
    "\n",
    "for df in drought_data:\n",
    "    # add year column, reformat FIPS column for merging\n",
    "    df['Year'] = pd.to_datetime(df.ValidStart).dt.year\n",
    "    df['FIPS'] = df.FIPS.astype(str).str.zfill(5)\n",
    "    \n",
    "    # average drought index per county per year\n",
    "    by_year = df.groupby(['FIPS', 'County'])[['None', 'D0', 'D1', 'D2', 'D3', 'D4']].mean().reset_index()\n",
    "    by_year['Year'] = df.Year[0]\n",
    "    \n",
    "    simplified_drought_data.append(by_year)"
   ]
  },
  {
   "cell_type": "code",
   "execution_count": 6,
   "metadata": {
    "collapsed": true
   },
   "outputs": [],
   "source": [
    "drought_final = pd.concat(simplified_drought_data)\n",
    "drought_final = drought_final.rename(columns={'None': 'No Drought'})"
   ]
  },
  {
   "cell_type": "code",
   "execution_count": 7,
   "metadata": {
    "collapsed": true
   },
   "outputs": [],
   "source": [
    "### Import and Wrangle Unemployment Data\n",
    "\n",
    "unemploy = pd.read_csv('Data/Local_Area_Unemployment_Statistics__LAUS___Annual_Average.csv')\n",
    "\n",
    "# select county unemployment data\n",
    "unemploy = unemploy[(unemploy['Area Type'] == 'County') & (unemploy['Year'] < 2017)]\n",
    "\n",
    "# select desired variable\n",
    "unemploy = unemploy[['Area Name', 'Year', 'Unemployment Rate']].reset_index(drop=True)\n",
    "\n",
    "# rename columns for merging\n",
    "unemploy = unemploy.rename(columns={'Area Name': 'County'})"
   ]
  },
  {
   "cell_type": "code",
   "execution_count": 8,
   "metadata": {},
   "outputs": [
    {
     "data": {
      "text/html": [
       "<div>\n",
       "<style scoped>\n",
       "    .dataframe tbody tr th:only-of-type {\n",
       "        vertical-align: middle;\n",
       "    }\n",
       "\n",
       "    .dataframe tbody tr th {\n",
       "        vertical-align: top;\n",
       "    }\n",
       "\n",
       "    .dataframe thead th {\n",
       "        text-align: right;\n",
       "    }\n",
       "</style>\n",
       "<table border=\"1\" class=\"dataframe\">\n",
       "  <thead>\n",
       "    <tr style=\"text-align: right;\">\n",
       "      <th></th>\n",
       "      <th>FIPS</th>\n",
       "      <th>Employment</th>\n",
       "      <th>Annual Payroll</th>\n",
       "      <th>Establishments</th>\n",
       "      <th>Year</th>\n",
       "      <th>County</th>\n",
       "      <th>No Drought</th>\n",
       "      <th>D0</th>\n",
       "      <th>D1</th>\n",
       "      <th>D2</th>\n",
       "      <th>D3</th>\n",
       "      <th>D4</th>\n",
       "      <th>Unemployment Rate</th>\n",
       "    </tr>\n",
       "  </thead>\n",
       "  <tbody>\n",
       "    <tr>\n",
       "      <th>0</th>\n",
       "      <td>06001</td>\n",
       "      <td>655730.0</td>\n",
       "      <td>28627936.0</td>\n",
       "      <td>36391.0</td>\n",
       "      <td>2000</td>\n",
       "      <td>Alameda County</td>\n",
       "      <td>97.862500</td>\n",
       "      <td>2.137500</td>\n",
       "      <td>0.000000</td>\n",
       "      <td>0.0</td>\n",
       "      <td>0.0</td>\n",
       "      <td>0.0</td>\n",
       "      <td>3.6</td>\n",
       "    </tr>\n",
       "    <tr>\n",
       "      <th>1</th>\n",
       "      <td>06003</td>\n",
       "      <td>1048.0</td>\n",
       "      <td>13362.0</td>\n",
       "      <td>52.0</td>\n",
       "      <td>2000</td>\n",
       "      <td>Alpine County</td>\n",
       "      <td>94.659423</td>\n",
       "      <td>5.340577</td>\n",
       "      <td>0.000000</td>\n",
       "      <td>0.0</td>\n",
       "      <td>0.0</td>\n",
       "      <td>0.0</td>\n",
       "      <td>6.3</td>\n",
       "    </tr>\n",
       "    <tr>\n",
       "      <th>2</th>\n",
       "      <td>06005</td>\n",
       "      <td>7378.0</td>\n",
       "      <td>174367.0</td>\n",
       "      <td>849.0</td>\n",
       "      <td>2000</td>\n",
       "      <td>Amador County</td>\n",
       "      <td>94.334038</td>\n",
       "      <td>5.665962</td>\n",
       "      <td>0.000000</td>\n",
       "      <td>0.0</td>\n",
       "      <td>0.0</td>\n",
       "      <td>0.0</td>\n",
       "      <td>5.2</td>\n",
       "    </tr>\n",
       "    <tr>\n",
       "      <th>3</th>\n",
       "      <td>06007</td>\n",
       "      <td>53776.0</td>\n",
       "      <td>1209766.0</td>\n",
       "      <td>4597.0</td>\n",
       "      <td>2000</td>\n",
       "      <td>Butte County</td>\n",
       "      <td>94.517885</td>\n",
       "      <td>5.482115</td>\n",
       "      <td>0.000000</td>\n",
       "      <td>0.0</td>\n",
       "      <td>0.0</td>\n",
       "      <td>0.0</td>\n",
       "      <td>6.2</td>\n",
       "    </tr>\n",
       "    <tr>\n",
       "      <th>4</th>\n",
       "      <td>16023</td>\n",
       "      <td>NaN</td>\n",
       "      <td>NaN</td>\n",
       "      <td>NaN</td>\n",
       "      <td>2000</td>\n",
       "      <td>Butte County</td>\n",
       "      <td>60.268462</td>\n",
       "      <td>39.731538</td>\n",
       "      <td>30.603846</td>\n",
       "      <td>0.0</td>\n",
       "      <td>0.0</td>\n",
       "      <td>0.0</td>\n",
       "      <td>6.2</td>\n",
       "    </tr>\n",
       "  </tbody>\n",
       "</table>\n",
       "</div>"
      ],
      "text/plain": [
       "    FIPS  Employment  Annual Payroll  Establishments  Year          County  \\\n",
       "0  06001    655730.0      28627936.0         36391.0  2000  Alameda County   \n",
       "1  06003      1048.0         13362.0            52.0  2000   Alpine County   \n",
       "2  06005      7378.0        174367.0           849.0  2000   Amador County   \n",
       "3  06007     53776.0       1209766.0          4597.0  2000    Butte County   \n",
       "4  16023         NaN             NaN             NaN  2000    Butte County   \n",
       "\n",
       "   No Drought         D0         D1   D2   D3   D4  Unemployment Rate  \n",
       "0   97.862500   2.137500   0.000000  0.0  0.0  0.0                3.6  \n",
       "1   94.659423   5.340577   0.000000  0.0  0.0  0.0                6.3  \n",
       "2   94.334038   5.665962   0.000000  0.0  0.0  0.0                5.2  \n",
       "3   94.517885   5.482115   0.000000  0.0  0.0  0.0                6.2  \n",
       "4   60.268462  39.731538  30.603846  0.0  0.0  0.0                6.2  "
      ]
     },
     "execution_count": 8,
     "metadata": {},
     "output_type": "execute_result"
    }
   ],
   "source": [
    "### Merge Data Sets\n",
    "\n",
    "first_merge = pd.merge(left=cbp_final, right=drought_final, left_on=['FIPS', 'Year'], right_on=['FIPS', 'Year'], how='outer')\n",
    "project_df = pd.merge(left=first_merge, right=unemploy, left_on=['County', 'Year'], right_on=['County', 'Year'])\n",
    "project_df.head()"
   ]
  },
  {
   "cell_type": "code",
   "execution_count": 40,
   "metadata": {},
   "outputs": [
    {
     "data": {
      "text/html": [
       "<div>\n",
       "<style scoped>\n",
       "    .dataframe tbody tr th:only-of-type {\n",
       "        vertical-align: middle;\n",
       "    }\n",
       "\n",
       "    .dataframe tbody tr th {\n",
       "        vertical-align: top;\n",
       "    }\n",
       "\n",
       "    .dataframe thead th {\n",
       "        text-align: right;\n",
       "    }\n",
       "</style>\n",
       "<table border=\"1\" class=\"dataframe\">\n",
       "  <thead>\n",
       "    <tr style=\"text-align: right;\">\n",
       "      <th></th>\n",
       "      <th>County</th>\n",
       "      <th>Per capita income in 1999 (dollars)</th>\n",
       "      <th>% pop. in poverty</th>\n",
       "    </tr>\n",
       "  </thead>\n",
       "  <tbody>\n",
       "    <tr>\n",
       "      <th>0</th>\n",
       "      <td>California</td>\n",
       "      <td>22711</td>\n",
       "      <td>14.2</td>\n",
       "    </tr>\n",
       "    <tr>\n",
       "      <th>1</th>\n",
       "      <td>Alameda County</td>\n",
       "      <td>26680</td>\n",
       "      <td>11.0</td>\n",
       "    </tr>\n",
       "    <tr>\n",
       "      <th>2</th>\n",
       "      <td>Alpine County</td>\n",
       "      <td>24431</td>\n",
       "      <td>19.5</td>\n",
       "    </tr>\n",
       "    <tr>\n",
       "      <th>3</th>\n",
       "      <td>Amador County</td>\n",
       "      <td>22412</td>\n",
       "      <td>9.2</td>\n",
       "    </tr>\n",
       "    <tr>\n",
       "      <th>4</th>\n",
       "      <td>Butte County</td>\n",
       "      <td>17517</td>\n",
       "      <td>19.8</td>\n",
       "    </tr>\n",
       "  </tbody>\n",
       "</table>\n",
       "</div>"
      ],
      "text/plain": [
       "           County  Per capita income in 1999 (dollars)  % pop. in poverty\n",
       "0      California                                22711               14.2\n",
       "1  Alameda County                                26680               11.0\n",
       "2   Alpine County                                24431               19.5\n",
       "3   Amador County                                22412                9.2\n",
       "4    Butte County                                17517               19.8"
      ]
     },
     "execution_count": 40,
     "metadata": {},
     "output_type": "execute_result"
    }
   ],
   "source": [
    "income_1999 = pd.read_csv('Data/income_by_county_1999.csv', header=1)\n",
    "income_1999 = income_1999.iloc[:, 6:]\n",
    "income_1999 = income_1999.rename(columns={income_1999.columns[0]: 'County', \\\n",
    "                                          income_1999.columns[2]: '% pop. in poverty'})\n",
    "income_1999.head()"
   ]
  },
  {
   "cell_type": "markdown",
   "metadata": {},
   "source": [
    "## Data Description"
   ]
  },
  {
   "cell_type": "code",
   "execution_count": null,
   "metadata": {
    "collapsed": true
   },
   "outputs": [],
   "source": []
  },
  {
   "cell_type": "markdown",
   "metadata": {},
   "source": [
    "## Data Exploration"
   ]
  },
  {
   "cell_type": "code",
   "execution_count": null,
   "metadata": {
    "collapsed": true
   },
   "outputs": [],
   "source": []
  },
  {
   "cell_type": "markdown",
   "metadata": {},
   "source": [
    "## Data Analysis"
   ]
  },
  {
   "cell_type": "code",
   "execution_count": null,
   "metadata": {
    "collapsed": true
   },
   "outputs": [],
   "source": []
  },
  {
   "cell_type": "markdown",
   "metadata": {},
   "source": [
    "## Ethical Considerations"
   ]
  },
  {
   "cell_type": "markdown",
   "metadata": {},
   "source": [
    "As the data for this research will only require looking at quantitative measures such as income values or disease rates, there will be no need for personal information if it presents itself. To best protect the privacy of the individuals we are collecting data from, all personal information not related to the data sets specifically (such as name or address of the household we are collecting utility data from) will be removed in the end results. We do not believe though that our question or datasets are invasive in nature and predict this will be of little occurrence if any. For our analyses, being aware of the racial inequalities present in low income communities is important. Before making any specific generalizations, we will make sure (if the data is available) that the ethnicities of households or individuals that are making up the census data are representative of the communities we are looking at. "
   ]
  },
  {
   "cell_type": "markdown",
   "metadata": {},
   "source": [
    "## Conclusions and Discussion"
   ]
  },
  {
   "cell_type": "code",
   "execution_count": null,
   "metadata": {
    "collapsed": true
   },
   "outputs": [],
   "source": []
  }
 ],
 "metadata": {
  "kernelspec": {
   "display_name": "Python 3",
   "language": "python",
   "name": "python3"
  },
  "language_info": {
   "codemirror_mode": {
    "name": "ipython",
    "version": 3
   },
   "file_extension": ".py",
   "mimetype": "text/x-python",
   "name": "python",
   "nbconvert_exporter": "python",
   "pygments_lexer": "ipython3",
   "version": "3.6.3"
  }
 },
 "nbformat": 4,
 "nbformat_minor": 2
}
