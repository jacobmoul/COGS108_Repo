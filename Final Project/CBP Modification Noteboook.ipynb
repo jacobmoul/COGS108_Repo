{
 "cells": [
  {
   "cell_type": "code",
   "execution_count": 1,
   "metadata": {
    "collapsed": true
   },
   "outputs": [],
   "source": [
    "import pandas as pd\n",
    "import os\n",
    "import glob\n",
    "import re"
   ]
  },
  {
   "cell_type": "code",
   "execution_count": 4,
   "metadata": {
    "collapsed": true
   },
   "outputs": [],
   "source": [
    "files = glob.glob('Data/*.txt')"
   ]
  },
  {
   "cell_type": "code",
   "execution_count": 8,
   "metadata": {},
   "outputs": [
    {
     "data": {
      "text/plain": [
       "['Data/cbp09co.txt',\n",
       " 'Data/cbp10co.txt',\n",
       " 'Data/cbp08co.txt',\n",
       " 'Data/cbp11co.txt']"
      ]
     },
     "execution_count": 8,
     "metadata": {},
     "output_type": "execute_result"
    }
   ],
   "source": [
    "files"
   ]
  },
  {
   "cell_type": "code",
   "execution_count": 10,
   "metadata": {},
   "outputs": [
    {
     "name": "stdout",
     "output_type": "stream",
     "text": [
      "Just finished file ['Data/cbp09co']\n",
      "Just finished file ['Data/cbp10co']\n",
      "Just finished file ['Data/cbp08co']\n",
      "Just finished file ['Data/cbp11co']\n"
     ]
    }
   ],
   "source": [
    "# select only counties \n",
    "for file in files:\n",
    "    df = pd.read_csv(file)\n",
    "    df.columns = [co.lower() for co in df.columns]\n",
    "    df = df[df.fipstate == 6]\n",
    "    name = re.findall(r'^(Data/\\w*).txt', file)\n",
    "    new_name = name[0] + '_mod.csv'\n",
    "    df.to_csv(new_name, header=True)\n",
    "    print('Just finished file %s' % (name))"
   ]
  }
 ],
 "metadata": {
  "kernelspec": {
   "display_name": "Python 3",
   "language": "python",
   "name": "python3"
  },
  "language_info": {
   "codemirror_mode": {
    "name": "ipython",
    "version": 3
   },
   "file_extension": ".py",
   "mimetype": "text/x-python",
   "name": "python",
   "nbconvert_exporter": "python",
   "pygments_lexer": "ipython3",
   "version": "3.6.3"
  }
 },
 "nbformat": 4,
 "nbformat_minor": 2
}
